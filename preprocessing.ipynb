{
  "cells": [
    {
      "cell_type": "markdown",
      "metadata": {
        "id": "dG5qsDfEXqVi"
      },
      "source": [
        "# Preprocessing Steps"
      ]
    },
    {
      "cell_type": "code",
      "execution_count": null,
      "metadata": {
        "pycharm": {
          "is_executing": true
        },
        "id": "G3QL01wbXqVr"
      },
      "outputs": [],
      "source": [
        "import numpy as np\n",
        "import pandas as pd\n",
        "import keras\n",
        "import keras.utils\n",
        "from keras.utils.np_utils import to_categorical\n",
        "import matplotlib.pyplot as plt\n",
        "from nltk.corpus import stopwords\n",
        "from sklearn.model_selection import train_test_split\n",
        "from sklearn.feature_extraction.text import CountVectorizer\n",
        "import re\n",
        "import string\n",
        "from nltk.tokenize import word_tokenize\n",
        "from keras.preprocessing.text import Tokenizer\n",
        "from keras.preprocessing.sequence import pad_sequences\n",
        "np.random.seed(0)"
      ]
    },
    {
      "cell_type": "code",
      "execution_count": null,
      "metadata": {
        "colab": {
          "base_uri": "https://localhost:8080/"
        },
        "id": "7jmhqRmRXqVv",
        "outputId": "c7709387-f609-461c-f80c-89d278457943"
      },
      "outputs": [
        {
          "output_type": "stream",
          "name": "stdout",
          "text": [
            "[nltk_data] Downloading package stopwords to /root/nltk_data...\n",
            "[nltk_data]   Unzipping corpora/stopwords.zip.\n",
            "[nltk_data] Downloading package punkt to /root/nltk_data...\n",
            "[nltk_data]   Unzipping tokenizers/punkt.zip.\n"
          ]
        },
        {
          "output_type": "execute_result",
          "data": {
            "text/plain": [
              "True"
            ]
          },
          "metadata": {},
          "execution_count": 3
        }
      ],
      "source": [
        "import nltk\n",
        "nltk.download('stopwords')\n",
        "nltk.download('punkt')"
      ]
    },
    {
      "cell_type": "markdown",
      "metadata": {
        "id": "JP5hYvRkXqVx"
      },
      "source": [
        "Load dataframes"
      ]
    },
    {
      "cell_type": "code",
      "source": [
        "from google.colab import files\n",
        "dataset_file_dict = files.upload()"
      ],
      "metadata": {
        "colab": {
          "resources": {
            "http://localhost:8080/nbextensions/google.colab/files.js": {
              "data": "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",
              "ok": true,
              "headers": [
                [
                  "content-type",
                  "application/javascript"
                ]
              ],
              "status": 200,
              "status_text": ""
            }
          },
          "base_uri": "https://localhost:8080/",
          "height": 73
        },
        "id": "JoyBtBm-X_Pt",
        "outputId": "f3e8b8bf-3d68-4024-adf4-252e2c2b94db"
      },
      "execution_count": null,
      "outputs": [
        {
          "output_type": "display_data",
          "data": {
            "text/plain": [
              "<IPython.core.display.HTML object>"
            ],
            "text/html": [
              "\n",
              "     <input type=\"file\" id=\"files-2ceb51ce-8c66-4670-a801-e066d39e838b\" name=\"files[]\" multiple disabled\n",
              "        style=\"border:none\" />\n",
              "     <output id=\"result-2ceb51ce-8c66-4670-a801-e066d39e838b\">\n",
              "      Upload widget is only available when the cell has been executed in the\n",
              "      current browser session. Please rerun this cell to enable.\n",
              "      </output>\n",
              "      <script src=\"/nbextensions/google.colab/files.js\"></script> "
            ]
          },
          "metadata": {}
        },
        {
          "output_type": "stream",
          "name": "stdout",
          "text": [
            "Saving emoji_train.pkl to emoji_train.pkl\n"
          ]
        }
      ]
    },
    {
      "cell_type": "code",
      "execution_count": null,
      "metadata": {
        "colab": {
          "base_uri": "https://localhost:8080/",
          "height": 424
        },
        "id": "TezyhoG5XqVy",
        "outputId": "bcb9da26-ebe8-48fc-e6a3-a6c76559383c"
      },
      "outputs": [
        {
          "output_type": "execute_result",
          "data": {
            "text/plain": [
              "                                                   tweet  emoji_class emoji  \\\n",
              "0      Brought to you courtesy of the red white and b...            5    🇺🇸   \n",
              "1                     @user #taotuesday @ TAO Downtown\\n            3     🔥   \n",
              "2      Ready to celebrate America with @user Happy #i...            5    🇺🇸   \n",
              "3      10min project w old footage #houstonphotograph...            2     📸   \n",
              "4      Usually I don't put song on my insta but this ...            3     🔥   \n",
              "...                                                  ...          ...   ...   \n",
              "42622  @user and sia__official ️ Top model @user and ...            0     ❤   \n",
              "42623        Xmas in RVA (@ The @user in Richmond, VA)\\n            4     🎄   \n",
              "42624                 @ The Villages on Millenia Blvd.\\n            1     😂   \n",
              "42625  When all the boys wear their stars and stripes...            5    🇺🇸   \n",
              "42626                  Hi NY ️ @ East Meadow, New York\\n            0     ❤   \n",
              "\n",
              "      predicted_class  \n",
              "0                None  \n",
              "1                None  \n",
              "2                None  \n",
              "3                None  \n",
              "4                None  \n",
              "...               ...  \n",
              "42622            None  \n",
              "42623            None  \n",
              "42624            None  \n",
              "42625            None  \n",
              "42626            None  \n",
              "\n",
              "[42627 rows x 4 columns]"
            ],
            "text/html": [
              "\n",
              "  <div id=\"df-1380029c-5ae9-47f6-b89d-d9c726a53ff0\">\n",
              "    <div class=\"colab-df-container\">\n",
              "      <div>\n",
              "<style scoped>\n",
              "    .dataframe tbody tr th:only-of-type {\n",
              "        vertical-align: middle;\n",
              "    }\n",
              "\n",
              "    .dataframe tbody tr th {\n",
              "        vertical-align: top;\n",
              "    }\n",
              "\n",
              "    .dataframe thead th {\n",
              "        text-align: right;\n",
              "    }\n",
              "</style>\n",
              "<table border=\"1\" class=\"dataframe\">\n",
              "  <thead>\n",
              "    <tr style=\"text-align: right;\">\n",
              "      <th></th>\n",
              "      <th>tweet</th>\n",
              "      <th>emoji_class</th>\n",
              "      <th>emoji</th>\n",
              "      <th>predicted_class</th>\n",
              "    </tr>\n",
              "  </thead>\n",
              "  <tbody>\n",
              "    <tr>\n",
              "      <th>0</th>\n",
              "      <td>Brought to you courtesy of the red white and b...</td>\n",
              "      <td>5</td>\n",
              "      <td>🇺🇸</td>\n",
              "      <td>None</td>\n",
              "    </tr>\n",
              "    <tr>\n",
              "      <th>1</th>\n",
              "      <td>@user #taotuesday @ TAO Downtown\\n</td>\n",
              "      <td>3</td>\n",
              "      <td>🔥</td>\n",
              "      <td>None</td>\n",
              "    </tr>\n",
              "    <tr>\n",
              "      <th>2</th>\n",
              "      <td>Ready to celebrate America with @user Happy #i...</td>\n",
              "      <td>5</td>\n",
              "      <td>🇺🇸</td>\n",
              "      <td>None</td>\n",
              "    </tr>\n",
              "    <tr>\n",
              "      <th>3</th>\n",
              "      <td>10min project w old footage #houstonphotograph...</td>\n",
              "      <td>2</td>\n",
              "      <td>📸</td>\n",
              "      <td>None</td>\n",
              "    </tr>\n",
              "    <tr>\n",
              "      <th>4</th>\n",
              "      <td>Usually I don't put song on my insta but this ...</td>\n",
              "      <td>3</td>\n",
              "      <td>🔥</td>\n",
              "      <td>None</td>\n",
              "    </tr>\n",
              "    <tr>\n",
              "      <th>...</th>\n",
              "      <td>...</td>\n",
              "      <td>...</td>\n",
              "      <td>...</td>\n",
              "      <td>...</td>\n",
              "    </tr>\n",
              "    <tr>\n",
              "      <th>42622</th>\n",
              "      <td>@user and sia__official ️ Top model @user and ...</td>\n",
              "      <td>0</td>\n",
              "      <td>❤</td>\n",
              "      <td>None</td>\n",
              "    </tr>\n",
              "    <tr>\n",
              "      <th>42623</th>\n",
              "      <td>Xmas in RVA (@ The @user in Richmond, VA)\\n</td>\n",
              "      <td>4</td>\n",
              "      <td>🎄</td>\n",
              "      <td>None</td>\n",
              "    </tr>\n",
              "    <tr>\n",
              "      <th>42624</th>\n",
              "      <td>@ The Villages on Millenia Blvd.\\n</td>\n",
              "      <td>1</td>\n",
              "      <td>😂</td>\n",
              "      <td>None</td>\n",
              "    </tr>\n",
              "    <tr>\n",
              "      <th>42625</th>\n",
              "      <td>When all the boys wear their stars and stripes...</td>\n",
              "      <td>5</td>\n",
              "      <td>🇺🇸</td>\n",
              "      <td>None</td>\n",
              "    </tr>\n",
              "    <tr>\n",
              "      <th>42626</th>\n",
              "      <td>Hi NY ️ @ East Meadow, New York\\n</td>\n",
              "      <td>0</td>\n",
              "      <td>❤</td>\n",
              "      <td>None</td>\n",
              "    </tr>\n",
              "  </tbody>\n",
              "</table>\n",
              "<p>42627 rows × 4 columns</p>\n",
              "</div>\n",
              "      <button class=\"colab-df-convert\" onclick=\"convertToInteractive('df-1380029c-5ae9-47f6-b89d-d9c726a53ff0')\"\n",
              "              title=\"Convert this dataframe to an interactive table.\"\n",
              "              style=\"display:none;\">\n",
              "        \n",
              "  <svg xmlns=\"http://www.w3.org/2000/svg\" height=\"24px\"viewBox=\"0 0 24 24\"\n",
              "       width=\"24px\">\n",
              "    <path d=\"M0 0h24v24H0V0z\" fill=\"none\"/>\n",
              "    <path d=\"M18.56 5.44l.94 2.06.94-2.06 2.06-.94-2.06-.94-.94-2.06-.94 2.06-2.06.94zm-11 1L8.5 8.5l.94-2.06 2.06-.94-2.06-.94L8.5 2.5l-.94 2.06-2.06.94zm10 10l.94 2.06.94-2.06 2.06-.94-2.06-.94-.94-2.06-.94 2.06-2.06.94z\"/><path d=\"M17.41 7.96l-1.37-1.37c-.4-.4-.92-.59-1.43-.59-.52 0-1.04.2-1.43.59L10.3 9.45l-7.72 7.72c-.78.78-.78 2.05 0 2.83L4 21.41c.39.39.9.59 1.41.59.51 0 1.02-.2 1.41-.59l7.78-7.78 2.81-2.81c.8-.78.8-2.07 0-2.86zM5.41 20L4 18.59l7.72-7.72 1.47 1.35L5.41 20z\"/>\n",
              "  </svg>\n",
              "      </button>\n",
              "      \n",
              "  <style>\n",
              "    .colab-df-container {\n",
              "      display:flex;\n",
              "      flex-wrap:wrap;\n",
              "      gap: 12px;\n",
              "    }\n",
              "\n",
              "    .colab-df-convert {\n",
              "      background-color: #E8F0FE;\n",
              "      border: none;\n",
              "      border-radius: 50%;\n",
              "      cursor: pointer;\n",
              "      display: none;\n",
              "      fill: #1967D2;\n",
              "      height: 32px;\n",
              "      padding: 0 0 0 0;\n",
              "      width: 32px;\n",
              "    }\n",
              "\n",
              "    .colab-df-convert:hover {\n",
              "      background-color: #E2EBFA;\n",
              "      box-shadow: 0px 1px 2px rgba(60, 64, 67, 0.3), 0px 1px 3px 1px rgba(60, 64, 67, 0.15);\n",
              "      fill: #174EA6;\n",
              "    }\n",
              "\n",
              "    [theme=dark] .colab-df-convert {\n",
              "      background-color: #3B4455;\n",
              "      fill: #D2E3FC;\n",
              "    }\n",
              "\n",
              "    [theme=dark] .colab-df-convert:hover {\n",
              "      background-color: #434B5C;\n",
              "      box-shadow: 0px 1px 3px 1px rgba(0, 0, 0, 0.15);\n",
              "      filter: drop-shadow(0px 1px 2px rgba(0, 0, 0, 0.3));\n",
              "      fill: #FFFFFF;\n",
              "    }\n",
              "  </style>\n",
              "\n",
              "      <script>\n",
              "        const buttonEl =\n",
              "          document.querySelector('#df-1380029c-5ae9-47f6-b89d-d9c726a53ff0 button.colab-df-convert');\n",
              "        buttonEl.style.display =\n",
              "          google.colab.kernel.accessAllowed ? 'block' : 'none';\n",
              "\n",
              "        async function convertToInteractive(key) {\n",
              "          const element = document.querySelector('#df-1380029c-5ae9-47f6-b89d-d9c726a53ff0');\n",
              "          const dataTable =\n",
              "            await google.colab.kernel.invokeFunction('convertToInteractive',\n",
              "                                                     [key], {});\n",
              "          if (!dataTable) return;\n",
              "\n",
              "          const docLinkHtml = 'Like what you see? Visit the ' +\n",
              "            '<a target=\"_blank\" href=https://colab.research.google.com/notebooks/data_table.ipynb>data table notebook</a>'\n",
              "            + ' to learn more about interactive tables.';\n",
              "          element.innerHTML = '';\n",
              "          dataTable['output_type'] = 'display_data';\n",
              "          await google.colab.output.renderOutput(dataTable, element);\n",
              "          const docLink = document.createElement('div');\n",
              "          docLink.innerHTML = docLinkHtml;\n",
              "          element.appendChild(docLink);\n",
              "        }\n",
              "      </script>\n",
              "    </div>\n",
              "  </div>\n",
              "  "
            ]
          },
          "metadata": {},
          "execution_count": 5
        }
      ],
      "source": [
        "df_train = pd.read_pickle(\"/content/emoji_train.pkl\")      # Shape: (42627, 4)\n",
        "#df_test = pd.read_pickle(\"source_files/emoji_test.pkl\")        # (10657, 4)\n",
        "df_train"
      ]
    },
    {
      "cell_type": "code",
      "execution_count": null,
      "metadata": {
        "id": "t1qerpeMXqVz",
        "outputId": "1dc44197-811c-4f8f-837e-da93366b4e16"
      },
      "outputs": [
        {
          "data": {
            "text/html": [
              "<div>\n",
              "<style scoped>\n",
              "    .dataframe tbody tr th:only-of-type {\n",
              "        vertical-align: middle;\n",
              "    }\n",
              "\n",
              "    .dataframe tbody tr th {\n",
              "        vertical-align: top;\n",
              "    }\n",
              "\n",
              "    .dataframe thead th {\n",
              "        text-align: right;\n",
              "    }\n",
              "</style>\n",
              "<table border=\"1\" class=\"dataframe\">\n",
              "  <thead>\n",
              "    <tr style=\"text-align: right;\">\n",
              "      <th></th>\n",
              "      <th>tweet</th>\n",
              "      <th>emoji_class</th>\n",
              "      <th>emoji</th>\n",
              "      <th>predicted_class</th>\n",
              "    </tr>\n",
              "  </thead>\n",
              "  <tbody>\n",
              "    <tr>\n",
              "      <th>0</th>\n",
              "      <td>Brought to you courtesy of the red white and b...</td>\n",
              "      <td>5</td>\n",
              "      <td>🇺🇸</td>\n",
              "      <td>None</td>\n",
              "    </tr>\n",
              "    <tr>\n",
              "      <th>1</th>\n",
              "      <td>@user #taotuesday @ TAO Downtown\\n</td>\n",
              "      <td>3</td>\n",
              "      <td>🔥</td>\n",
              "      <td>None</td>\n",
              "    </tr>\n",
              "    <tr>\n",
              "      <th>2</th>\n",
              "      <td>Ready to celebrate America with @user Happy #i...</td>\n",
              "      <td>5</td>\n",
              "      <td>🇺🇸</td>\n",
              "      <td>None</td>\n",
              "    </tr>\n",
              "    <tr>\n",
              "      <th>3</th>\n",
              "      <td>10min project w old footage #houstonphotograph...</td>\n",
              "      <td>2</td>\n",
              "      <td>📸</td>\n",
              "      <td>None</td>\n",
              "    </tr>\n",
              "    <tr>\n",
              "      <th>4</th>\n",
              "      <td>Usually I don't put song on my insta but this ...</td>\n",
              "      <td>3</td>\n",
              "      <td>🔥</td>\n",
              "      <td>None</td>\n",
              "    </tr>\n",
              "    <tr>\n",
              "      <th>...</th>\n",
              "      <td>...</td>\n",
              "      <td>...</td>\n",
              "      <td>...</td>\n",
              "      <td>...</td>\n",
              "    </tr>\n",
              "    <tr>\n",
              "      <th>42622</th>\n",
              "      <td>@user and sia__official ️ Top model @user and ...</td>\n",
              "      <td>0</td>\n",
              "      <td>❤</td>\n",
              "      <td>None</td>\n",
              "    </tr>\n",
              "    <tr>\n",
              "      <th>42623</th>\n",
              "      <td>Xmas in RVA (@ The @user in Richmond, VA)\\n</td>\n",
              "      <td>4</td>\n",
              "      <td>🎄</td>\n",
              "      <td>None</td>\n",
              "    </tr>\n",
              "    <tr>\n",
              "      <th>42624</th>\n",
              "      <td>@ The Villages on Millenia Blvd.\\n</td>\n",
              "      <td>1</td>\n",
              "      <td>😂</td>\n",
              "      <td>None</td>\n",
              "    </tr>\n",
              "    <tr>\n",
              "      <th>42625</th>\n",
              "      <td>When all the boys wear their stars and stripes...</td>\n",
              "      <td>5</td>\n",
              "      <td>🇺🇸</td>\n",
              "      <td>None</td>\n",
              "    </tr>\n",
              "    <tr>\n",
              "      <th>42626</th>\n",
              "      <td>Hi NY ️ @ East Meadow, New York\\n</td>\n",
              "      <td>0</td>\n",
              "      <td>❤</td>\n",
              "      <td>None</td>\n",
              "    </tr>\n",
              "  </tbody>\n",
              "</table>\n",
              "<p>42627 rows × 4 columns</p>\n",
              "</div>"
            ],
            "text/plain": [
              "                                                   tweet  emoji_class emoji  \\\n",
              "0      Brought to you courtesy of the red white and b...            5    🇺🇸   \n",
              "1                     @user #taotuesday @ TAO Downtown\\n            3     🔥   \n",
              "2      Ready to celebrate America with @user Happy #i...            5    🇺🇸   \n",
              "3      10min project w old footage #houstonphotograph...            2     📸   \n",
              "4      Usually I don't put song on my insta but this ...            3     🔥   \n",
              "...                                                  ...          ...   ...   \n",
              "42622  @user and sia__official ️ Top model @user and ...            0     ❤   \n",
              "42623        Xmas in RVA (@ The @user in Richmond, VA)\\n            4     🎄   \n",
              "42624                 @ The Villages on Millenia Blvd.\\n            1     😂   \n",
              "42625  When all the boys wear their stars and stripes...            5    🇺🇸   \n",
              "42626                  Hi NY ️ @ East Meadow, New York\\n            0     ❤   \n",
              "\n",
              "      predicted_class  \n",
              "0                None  \n",
              "1                None  \n",
              "2                None  \n",
              "3                None  \n",
              "4                None  \n",
              "...               ...  \n",
              "42622            None  \n",
              "42623            None  \n",
              "42624            None  \n",
              "42625            None  \n",
              "42626            None  \n",
              "\n",
              "[42627 rows x 4 columns]"
            ]
          },
          "execution_count": 5,
          "metadata": {},
          "output_type": "execute_result"
        }
      ],
      "source": [
        "df_train"
      ]
    },
    {
      "cell_type": "code",
      "execution_count": null,
      "metadata": {
        "colab": {
          "base_uri": "https://localhost:8080/"
        },
        "id": "1fQD-GVEXqV0",
        "outputId": "15e41c30-5e3f-4bef-caab-c4797db42e95"
      },
      "outputs": [
        {
          "output_type": "stream",
          "name": "stdout",
          "text": [
            "42627\n",
            "             tweet                                                            \\\n",
            "             count unique                                                top   \n",
            "emoji_class                                                                    \n",
            "0            16846  16791                     ️ @ Los Angeles, California \\n   \n",
            "1             7801   7784                       @ Los Angeles, California \\n   \n",
            "2             6103   6080                 @user @ Los Angeles, California \\n   \n",
            "3             4884   4868                       @ Los Angeles, California \\n   \n",
            "4             2450   2437  #FlockCity flockcityla // Fresh Cut High Quali...   \n",
            "5             2431   2425  ALL wknd apply Code: VEGAS and receive 15% off...   \n",
            "6             2112   2107                     ️ @ Los Angeles, California \\n   \n",
            "\n",
            "                  emoji                   predicted_class                   \n",
            "            freq  count unique top   freq           count unique  top freq  \n",
            "emoji_class                                                                 \n",
            "0              9  16846      1   ❤  16846               0      0  NaN  NaN  \n",
            "1              7   7801      1   😂   7801               0      0  NaN  NaN  \n",
            "2              5   6103      1   📸   6103               0      0  NaN  NaN  \n",
            "3              4   4884      1   🔥   4884               0      0  NaN  NaN  \n",
            "4              6   2450      1   🎄   2450               0      0  NaN  NaN  \n",
            "5              2   2431      1  🇺🇸   2431               0      0  NaN  NaN  \n",
            "6              3   2112      1   ☀   2112               0      0  NaN  NaN  \n"
          ]
        }
      ],
      "source": [
        "print(len(df_train))\n",
        "classes = df_train.groupby('emoji_class')\n",
        "print(classes.describe())"
      ]
    },
    {
      "cell_type": "code",
      "source": [
        "plt.bar(['0', '1', '2', '3', '4', '5', '6'], height=[\n",
        "                                                     df_train['emoji_class'].value_counts()[0],\n",
        "                                                     df_train['emoji_class'].value_counts()[1],\n",
        "                                                     df_train['emoji_class'].value_counts()[2],\n",
        "                                                     df_train['emoji_class'].value_counts()[3],\n",
        "                                                     df_train['emoji_class'].value_counts()[4],\n",
        "                                                     df_train['emoji_class'].value_counts()[5],\n",
        "                                                     df_train['emoji_class'].value_counts()[6]] , color='crbgy')\n",
        "plt.title(\"Data Distribution\")\n",
        "plt.show()"
      ],
      "metadata": {
        "colab": {
          "base_uri": "https://localhost:8080/",
          "height": 316
        },
        "id": "KkrxGpc3bUTV",
        "outputId": "f6bd735a-b70a-41ea-86f8-cf7e93bce618"
      },
      "execution_count": null,
      "outputs": [
        {
          "output_type": "stream",
          "name": "stderr",
          "text": [
            "/usr/local/lib/python3.7/dist-packages/ipykernel_launcher.py:8: MatplotlibDeprecationWarning: Using a string of single character colors as a color sequence is deprecated. Use an explicit list instead.\n",
            "  \n"
          ]
        },
        {
          "output_type": "display_data",
          "data": {
            "text/plain": [
              "<Figure size 432x288 with 1 Axes>"
            ],
            "image/png": "[encoded data removed]"
          },
          "metadata": {
            "needs_background": "light"
          }
        }
      ]
    },
    {
      "cell_type": "markdown",
      "metadata": {
        "id": "F9oUqEAhXqV1"
      },
      "source": [
        "## Data Preprocessing"
      ]
    },
    {
      "cell_type": "code",
      "execution_count": null,
      "metadata": {
        "colab": {
          "base_uri": "https://localhost:8080/"
        },
        "id": "naWbHnpHXqV2",
        "outputId": "c243a68f-0718-4329-e224-9ecdc5cb801b"
      },
      "outputs": [
        {
          "output_type": "execute_result",
          "data": {
            "text/plain": [
              "True"
            ]
          },
          "metadata": {},
          "execution_count": 7
        }
      ],
      "source": [
        "df_train.isnull().values.any()"
      ]
    },
    {
      "cell_type": "code",
      "execution_count": null,
      "metadata": {
        "colab": {
          "base_uri": "https://localhost:8080/"
        },
        "id": "-MCH0gJHXqV3",
        "outputId": "4733b806-f64e-4d3f-8578-7022a96f3fac"
      },
      "outputs": [
        {
          "output_type": "execute_result",
          "data": {
            "text/plain": [
              "array([[False, False, False,  True],\n",
              "       [False, False, False,  True],\n",
              "       [False, False, False,  True],\n",
              "       ...,\n",
              "       [False, False, False,  True],\n",
              "       [False, False, False,  True],\n",
              "       [False, False, False,  True]])"
            ]
          },
          "metadata": {},
          "execution_count": 8
        }
      ],
      "source": [
        "df_train.isnull().values"
      ]
    },
    {
      "cell_type": "markdown",
      "metadata": {
        "id": "v4yoUS9kXqV4"
      },
      "source": [
        "Feature Engineering"
      ]
    },
    {
      "cell_type": "code",
      "execution_count": null,
      "metadata": {
        "id": "VsZXWpzjXqV4"
      },
      "outputs": [],
      "source": [
        "# last column in df_train is null - we remove it\n",
        "# we drop also emoji column - we don't need it\n",
        "df_train = df_train.drop(columns = [\"predicted_class\", \"emoji\"])"
      ]
    },
    {
      "cell_type": "code",
      "execution_count": null,
      "metadata": {
        "colab": {
          "base_uri": "https://localhost:8080/"
        },
        "id": "sDXeIbLcXqV5",
        "outputId": "99df9654-a4b1-4750-8f50-70c8bb9411f6"
      },
      "outputs": [
        {
          "output_type": "execute_result",
          "data": {
            "text/plain": [
              "False"
            ]
          },
          "metadata": {},
          "execution_count": 10
        }
      ],
      "source": [
        "df_train.isnull().values.any()"
      ]
    },
    {
      "cell_type": "code",
      "execution_count": null,
      "metadata": {
        "colab": {
          "base_uri": "https://localhost:8080/",
          "height": 283
        },
        "id": "aswK8LChXqV6",
        "outputId": "ba6dadfd-fc43-4171-bad2-e1f70ad22586"
      },
      "outputs": [
        {
          "output_type": "execute_result",
          "data": {
            "text/plain": [
              "<matplotlib.axes._subplots.AxesSubplot at 0x7f1cc67d9990>"
            ]
          },
          "metadata": {},
          "execution_count": 11
        },
        {
          "output_type": "display_data",
          "data": {
            "text/plain": [
              "<Figure size 432x288 with 1 Axes>"
            ],
            "image/png": "[encoded data removed]"
          },
          "metadata": {
            "needs_background": "light"
          }
        }
      ],
      "source": [
        "#check the length distribution of tweets\n",
        "df_train['tweet'].str.split().map(lambda x: len(x)).hist()"
      ]
    },
    {
      "cell_type": "markdown",
      "source": [
        "Max length -> 40 needed for padding"
      ],
      "metadata": {
        "id": "MAAwGDIu4q9D"
      }
    },
    {
      "cell_type": "markdown",
      "metadata": {
        "id": "XHhs09y6XqV7"
      },
      "source": [
        "### Text Pre-Processing\n",
        "\n",
        "This is rather a simple cleaning pipeline:\n",
        "\n",
        "\n",
        "1.   Remove special characters and leave only letters.\n",
        "2.   Lowercase all letters and split the text\n",
        "3.   Remove emojis/links/usernames and normalize hash tags.\n",
        "4.   Apply stemming on the data to fix the influence of the bad words\n",
        "5.   Remove all the stopwords as they are do not contain a lot of information stored. \n",
        "6.   Create a sequence again\n",
        "\n",
        "> We also make use of Stemming as we believe this might be a factor that influence the learning of the model"
      ]
    },
    {
      "cell_type": "code",
      "execution_count": null,
      "metadata": {
        "id": "dHH3Qx4LXqV8"
      },
      "outputs": [],
      "source": [
        "# Reference: Code implementation for the paper \"DeepHate: Hate Speech Detection via Multi-Faceted Text Representations\" (WebSci'20) Roy Lee (2021) at https://gitlab.com/bottle_shop/safe/deephate/-/blob/master/DeepHate/dataset.py"
      ]
    },
    {
      "cell_type": "code",
      "execution_count": null,
      "metadata": {
        "id": "5XcqtPfuXqV9"
      },
      "outputs": [],
      "source": [
        "def expand_match(contraction):\n",
        "    contraction_mapping = {\n",
        "        \"isn't\": \"is not\",\n",
        "        \"aren't\": \"are not\",\n",
        "        \"con't\": \"cannot\",\n",
        "        \"can't've\": \"cannot have\",\n",
        "        \"you'll've\": \"your will have\",\n",
        "        \"you're\": \"you are\",\n",
        "        \"you've\": \"you have\"\n",
        "    }\n",
        "    match = contraction.group(0)\n",
        "    first_char = match[0]\n",
        "    expanded_contraction = contraction_mapping.get(match) \\\n",
        "        if contraction_mapping.get(match) \\\n",
        "        else contraction_mapping.get(match.lower())\n",
        "    expanded_contraction = first_char + expanded_contraction[1:]\n",
        "    return expanded_contraction"
      ]
    },
    {
      "cell_type": "code",
      "execution_count": null,
      "metadata": {
        "id": "z57zomccXqV9"
      },
      "outputs": [],
      "source": [
        "def clean_tweets(text, stem_flag = False):\n",
        "    url_pattern = re.compile(r'(https?:\\/\\/(?:www\\.|(?!www))[a-zA-Z0-9][a-zA-Z0-9-]+[a-zA-Z0-9]\\.[^\\s]{2,}|https?:\\/\\/(?:www\\.|(?!www))'r'[a-zA-Z0-9]\\.[^\\s]{2,}|www\\.[a-zA-Z0-9]\\.[^\\s]{2,})')\n",
        "    emojis_pattern = re.compile(u'([\\U00002600-\\U000027BF])|([\\U0001f300-\\U0001f64F])|([\\U0001f680-\\U0001f6FF])')\n",
        "    hash_pattern = re.compile(r'#\\w*')\n",
        "    single_letter_pattern = re.compile(r'(?<![\\w\\-])\\w(?![\\w\\-])')\n",
        "    blank_spaces_pattern = re.compile(r'\\s{2,}|\\t')\n",
        "    reserved_pattern = re.compile(r'(RT|rt|FAV|fav|VIA|via)')\n",
        "    mention_pattern = re.compile(r'@\\w*')\n",
        "    CONTRACTION_MAP = {\n",
        "        \"isn't\": \"is not\",\n",
        "        \"aren't\": \"are not\",\n",
        "        \"con't\": \"cannot\",\n",
        "        \"can't've\": \"cannot have\",\n",
        "        \"you'll've\": \"your will have\",\n",
        "        \"you're\": \"you are\",\n",
        "        \"you've\": \"you have\"\n",
        "    }\n",
        "    constraction_pattern = re.compile('({})'.format('|'.join(CONTRACTION_MAP.keys())),\n",
        "                                        flags=re.IGNORECASE | re.DOTALL)\n",
        "    Whitespace = re.compile(u\"[\\s\\u0020\\u00a0\\u1680\\u180e\\u202f\\u205f\\u3000\\u2000-\\u200a]+\", re.UNICODE)\n",
        "    urls = re.sub(pattern=url_pattern, repl='', string=text)\n",
        "    mentions = re.sub(pattern=mention_pattern, repl='', string=urls)\n",
        "    hashtag = re.sub(pattern=hash_pattern, repl='', string=mentions)\n",
        "    reserved = re.sub(pattern=reserved_pattern, repl='', string=hashtag)\n",
        "    reserved = Whitespace.sub(\" \", reserved)\n",
        "    reserved = constraction_pattern.sub(expand_match, reserved)\n",
        "    punct = \"[{}]+\".format(string.punctuation)\n",
        "    punctuation = re.sub(punct, '', reserved)\n",
        "    single = re.sub(pattern=single_letter_pattern, repl='', string=punctuation)\n",
        "    blank = re.sub(pattern=blank_spaces_pattern, repl=' ', string=single)\n",
        "    blank = blank.lower()\n",
        "    if stem_flag:\n",
        "        stemming = re.sub(r'/(ies|y|ed|ing|s)(\\s|\\b)/g', ' ', blank)\n",
        "\n",
        "    return blank.split() if not stem_flag else stemming.split()"
      ]
    },
    {
      "cell_type": "code",
      "execution_count": null,
      "metadata": {
        "id": "2E0jiWURXqV-"
      },
      "outputs": [],
      "source": [
        "def tweet_processing(raw_tweet):\n",
        "    words = clean_tweets(raw_tweet)\n",
        "    stops = set(stopwords.words(\"english\"))\n",
        "    m_w = [w for w in words if not w in stops]\n",
        "    return (\" \".join(m_w))"
      ]
    },
    {
      "cell_type": "code",
      "execution_count": null,
      "metadata": {
        "id": "5Fi4JPVNXqV_"
      },
      "outputs": [],
      "source": [
        "# Clean tweets\n",
        "num_tweets = df_train[\"tweet\"].size\n",
        "clean_tweet = []\n",
        "for i in range(0,num_tweets):\n",
        "    clean_tweet.append(tweet_processing(df_train[\"tweet\"][i]))\n",
        "df_train[\"tweet\"] = clean_tweet "
      ]
    },
    {
      "cell_type": "code",
      "execution_count": null,
      "metadata": {
        "colab": {
          "base_uri": "https://localhost:8080/",
          "height": 424
        },
        "id": "rraWq1H7XqV_",
        "outputId": "e4dc7a00-f3e1-427b-b1e1-5dc30318343d"
      },
      "outputs": [
        {
          "output_type": "execute_result",
          "data": {
            "text/plain": [
              "                                                   tweet  emoji_class  \\\n",
              "0      brought couesy red white blue welcome home sol...            5   \n",
              "1                                           tao downtown            3   \n",
              "2            ready celebrate america happy columbia cafe            5   \n",
              "3                         10min project old footage the…            2   \n",
              "4          usually dont put song insta shit fire thank …            3   \n",
              "...                                                  ...          ...   \n",
              "42622                     siaofficial ️ top model video…            0   \n",
              "42623                               xmas rva richmond va            4   \n",
              "42624                             villages millenia blvd            1   \n",
              "42625    boys wear stars stripes santa monica california            5   \n",
              "42626                       hi ny ️ east meadow new york            0   \n",
              "\n",
              "                                         tokenized_sents  \n",
              "0      [brought, couesy, red, white, blue, welcome, h...  \n",
              "1                                        [tao, downtown]  \n",
              "2      [ready, celebrate, america, happy, columbia, c...  \n",
              "3                   [10min, project, old, footage, the…]  \n",
              "4      [usually, dont, put, song, insta, shit, fire, ...  \n",
              "...                                                  ...  \n",
              "42622               [siaofficial, ️, top, model, video…]  \n",
              "42623                          [xmas, rva, richmond, va]  \n",
              "42624                         [villages, millenia, blvd]  \n",
              "42625  [boys, wear, stars, stripes, santa, monica, ca...  \n",
              "42626               [hi, ny, ️, east, meadow, new, york]  \n",
              "\n",
              "[42627 rows x 3 columns]"
            ],
            "text/html": [
              "\n",
              "  <div id=\"df-733c4f84-1632-4f54-8bf0-45eda2e632f7\">\n",
              "    <div class=\"colab-df-container\">\n",
              "      <div>\n",
              "<style scoped>\n",
              "    .dataframe tbody tr th:only-of-type {\n",
              "        vertical-align: middle;\n",
              "    }\n",
              "\n",
              "    .dataframe tbody tr th {\n",
              "        vertical-align: top;\n",
              "    }\n",
              "\n",
              "    .dataframe thead th {\n",
              "        text-align: right;\n",
              "    }\n",
              "</style>\n",
              "<table border=\"1\" class=\"dataframe\">\n",
              "  <thead>\n",
              "    <tr style=\"text-align: right;\">\n",
              "      <th></th>\n",
              "      <th>tweet</th>\n",
              "      <th>emoji_class</th>\n",
              "      <th>tokenized_sents</th>\n",
              "    </tr>\n",
              "  </thead>\n",
              "  <tbody>\n",
              "    <tr>\n",
              "      <th>0</th>\n",
              "      <td>brought couesy red white blue welcome home sol...</td>\n",
              "      <td>5</td>\n",
              "      <td>[brought, couesy, red, white, blue, welcome, h...</td>\n",
              "    </tr>\n",
              "    <tr>\n",
              "      <th>1</th>\n",
              "      <td>tao downtown</td>\n",
              "      <td>3</td>\n",
              "      <td>[tao, downtown]</td>\n",
              "    </tr>\n",
              "    <tr>\n",
              "      <th>2</th>\n",
              "      <td>ready celebrate america happy columbia cafe</td>\n",
              "      <td>5</td>\n",
              "      <td>[ready, celebrate, america, happy, columbia, c...</td>\n",
              "    </tr>\n",
              "    <tr>\n",
              "      <th>3</th>\n",
              "      <td>10min project old footage the…</td>\n",
              "      <td>2</td>\n",
              "      <td>[10min, project, old, footage, the…]</td>\n",
              "    </tr>\n",
              "    <tr>\n",
              "      <th>4</th>\n",
              "      <td>usually dont put song insta shit fire thank …</td>\n",
              "      <td>3</td>\n",
              "      <td>[usually, dont, put, song, insta, shit, fire, ...</td>\n",
              "    </tr>\n",
              "    <tr>\n",
              "      <th>...</th>\n",
              "      <td>...</td>\n",
              "      <td>...</td>\n",
              "      <td>...</td>\n",
              "    </tr>\n",
              "    <tr>\n",
              "      <th>42622</th>\n",
              "      <td>siaofficial ️ top model video…</td>\n",
              "      <td>0</td>\n",
              "      <td>[siaofficial, ️, top, model, video…]</td>\n",
              "    </tr>\n",
              "    <tr>\n",
              "      <th>42623</th>\n",
              "      <td>xmas rva richmond va</td>\n",
              "      <td>4</td>\n",
              "      <td>[xmas, rva, richmond, va]</td>\n",
              "    </tr>\n",
              "    <tr>\n",
              "      <th>42624</th>\n",
              "      <td>villages millenia blvd</td>\n",
              "      <td>1</td>\n",
              "      <td>[villages, millenia, blvd]</td>\n",
              "    </tr>\n",
              "    <tr>\n",
              "      <th>42625</th>\n",
              "      <td>boys wear stars stripes santa monica california</td>\n",
              "      <td>5</td>\n",
              "      <td>[boys, wear, stars, stripes, santa, monica, ca...</td>\n",
              "    </tr>\n",
              "    <tr>\n",
              "      <th>42626</th>\n",
              "      <td>hi ny ️ east meadow new york</td>\n",
              "      <td>0</td>\n",
              "      <td>[hi, ny, ️, east, meadow, new, york]</td>\n",
              "    </tr>\n",
              "  </tbody>\n",
              "</table>\n",
              "<p>42627 rows × 3 columns</p>\n",
              "</div>\n",
              "      <button class=\"colab-df-convert\" onclick=\"convertToInteractive('df-733c4f84-1632-4f54-8bf0-45eda2e632f7')\"\n",
              "              title=\"Convert this dataframe to an interactive table.\"\n",
              "              style=\"display:none;\">\n",
              "        \n",
              "  <svg xmlns=\"http://www.w3.org/2000/svg\" height=\"24px\"viewBox=\"0 0 24 24\"\n",
              "       width=\"24px\">\n",
              "    <path d=\"M0 0h24v24H0V0z\" fill=\"none\"/>\n",
              "    <path d=\"M18.56 5.44l.94 2.06.94-2.06 2.06-.94-2.06-.94-.94-2.06-.94 2.06-2.06.94zm-11 1L8.5 8.5l.94-2.06 2.06-.94-2.06-.94L8.5 2.5l-.94 2.06-2.06.94zm10 10l.94 2.06.94-2.06 2.06-.94-2.06-.94-.94-2.06-.94 2.06-2.06.94z\"/><path d=\"M17.41 7.96l-1.37-1.37c-.4-.4-.92-.59-1.43-.59-.52 0-1.04.2-1.43.59L10.3 9.45l-7.72 7.72c-.78.78-.78 2.05 0 2.83L4 21.41c.39.39.9.59 1.41.59.51 0 1.02-.2 1.41-.59l7.78-7.78 2.81-2.81c.8-.78.8-2.07 0-2.86zM5.41 20L4 18.59l7.72-7.72 1.47 1.35L5.41 20z\"/>\n",
              "  </svg>\n",
              "      </button>\n",
              "      \n",
              "  <style>\n",
              "    .colab-df-container {\n",
              "      display:flex;\n",
              "      flex-wrap:wrap;\n",
              "      gap: 12px;\n",
              "    }\n",
              "\n",
              "    .colab-df-convert {\n",
              "      background-color: #E8F0FE;\n",
              "      border: none;\n",
              "      border-radius: 50%;\n",
              "      cursor: pointer;\n",
              "      display: none;\n",
              "      fill: #1967D2;\n",
              "      height: 32px;\n",
              "      padding: 0 0 0 0;\n",
              "      width: 32px;\n",
              "    }\n",
              "\n",
              "    .colab-df-convert:hover {\n",
              "      background-color: #E2EBFA;\n",
              "      box-shadow: 0px 1px 2px rgba(60, 64, 67, 0.3), 0px 1px 3px 1px rgba(60, 64, 67, 0.15);\n",
              "      fill: #174EA6;\n",
              "    }\n",
              "\n",
              "    [theme=dark] .colab-df-convert {\n",
              "      background-color: #3B4455;\n",
              "      fill: #D2E3FC;\n",
              "    }\n",
              "\n",
              "    [theme=dark] .colab-df-convert:hover {\n",
              "      background-color: #434B5C;\n",
              "      box-shadow: 0px 1px 3px 1px rgba(0, 0, 0, 0.15);\n",
              "      filter: drop-shadow(0px 1px 2px rgba(0, 0, 0, 0.3));\n",
              "      fill: #FFFFFF;\n",
              "    }\n",
              "  </style>\n",
              "\n",
              "      <script>\n",
              "        const buttonEl =\n",
              "          document.querySelector('#df-733c4f84-1632-4f54-8bf0-45eda2e632f7 button.colab-df-convert');\n",
              "        buttonEl.style.display =\n",
              "          google.colab.kernel.accessAllowed ? 'block' : 'none';\n",
              "\n",
              "        async function convertToInteractive(key) {\n",
              "          const element = document.querySelector('#df-733c4f84-1632-4f54-8bf0-45eda2e632f7');\n",
              "          const dataTable =\n",
              "            await google.colab.kernel.invokeFunction('convertToInteractive',\n",
              "                                                     [key], {});\n",
              "          if (!dataTable) return;\n",
              "\n",
              "          const docLinkHtml = 'Like what you see? Visit the ' +\n",
              "            '<a target=\"_blank\" href=https://colab.research.google.com/notebooks/data_table.ipynb>data table notebook</a>'\n",
              "            + ' to learn more about interactive tables.';\n",
              "          element.innerHTML = '';\n",
              "          dataTable['output_type'] = 'display_data';\n",
              "          await google.colab.output.renderOutput(dataTable, element);\n",
              "          const docLink = document.createElement('div');\n",
              "          docLink.innerHTML = docLinkHtml;\n",
              "          element.appendChild(docLink);\n",
              "        }\n",
              "      </script>\n",
              "    </div>\n",
              "  </div>\n",
              "  "
            ]
          },
          "metadata": {},
          "execution_count": 27
        }
      ],
      "source": [
        "df_train"
      ]
    },
    {
      "cell_type": "markdown",
      "metadata": {
        "id": "4akv-JlRXqWA"
      },
      "source": [
        "## Data Preparation"
      ]
    },
    {
      "cell_type": "markdown",
      "metadata": {
        "id": "orLsh3IFXqWC"
      },
      "source": [
        "Let's make the data ready for training. We need to:\n",
        "\n",
        "- tokenize the sequence in words and assign each word in the vocabulary an index so we can relate it later on.\n",
        "- pad the vectorized sequence to have fixed unit - max_length=40"
      ]
    },
    {
      "cell_type": "code",
      "execution_count": null,
      "metadata": {
        "id": "z6zPI4BNXqWD"
      },
      "outputs": [],
      "source": [
        "df_train['tokenized_sents'] = df_train.apply(lambda column: word_tokenize(column['tweet']), axis=1)"
      ]
    },
    {
      "cell_type": "code",
      "execution_count": null,
      "metadata": {
        "id": "f7_M6R-bXqWD"
      },
      "outputs": [],
      "source": [
        "def process_data(data, max_len=40):\n",
        "    tokenizer = Tokenizer()\n",
        "    tokenizer.fit_on_texts(data['tokenized_sents'])\n",
        "    sequences = tokenizer.texts_to_sequences(data['tokenized_sents'])\n",
        "    # Pad the sequence in order to have max length...\n",
        "    x = pad_sequences(sequences, maxlen=max_len)\n",
        "    # Make one hot encoding for labeling part. Should be in input [1 0]\n",
        "    y = to_categorical(data['emoji_class'], num_classes=7)\n",
        "    # splitting the Dataset into Train and Test set\n",
        "    x_train, x_test, y_train, y_test=train_test_split(x,y,test_size=0.2,random_state=0, shuffle=False)\n",
        "    return x_train, x_test, y_train, y_test"
      ]
    },
    {
      "cell_type": "code",
      "execution_count": null,
      "metadata": {
        "id": "FEeP1mD5XqWD"
      },
      "outputs": [],
      "source": [
        "x_train, x_validation, y_train, y_validation = process_data(df_train)"
      ]
    },
    {
      "cell_type": "code",
      "source": [
        "x_train"
      ],
      "metadata": {
        "colab": {
          "base_uri": "https://localhost:8080/"
        },
        "id": "Pd_m0VxuYpZk",
        "outputId": "e1d981b4-b931-4f46-a055-02f9dec6fdb6"
      },
      "execution_count": null,
      "outputs": [
        {
          "output_type": "execute_result",
          "data": {
            "text/plain": [
              "array([[   0,    0,    0, ...,  382,   39, 7162],\n",
              "       [   0,    0,    0, ...,    0, 4524,   87],\n",
              "       [   0,    0,    0, ...,    6,  744,  263],\n",
              "       ...,\n",
              "       [   0,    0,    0, ...,   91,   93, 1863],\n",
              "       [   0,    0,    0, ..., 2245,  134,    1],\n",
              "       [   0,    0,    0, ...,   98,  330,   27]], dtype=int32)"
            ]
          },
          "metadata": {},
          "execution_count": 22
        }
      ]
    },
    {
      "cell_type": "code",
      "source": [
        "y_train"
      ],
      "metadata": {
        "colab": {
          "base_uri": "https://localhost:8080/"
        },
        "id": "IrMV6Hy1YqoI",
        "outputId": "eaf8bedb-3a91-4d67-d65a-d9a638af801d"
      },
      "execution_count": null,
      "outputs": [
        {
          "output_type": "execute_result",
          "data": {
            "text/plain": [
              "array([[0., 0., 0., ..., 0., 1., 0.],\n",
              "       [0., 0., 0., ..., 0., 0., 0.],\n",
              "       [0., 0., 0., ..., 0., 1., 0.],\n",
              "       ...,\n",
              "       [1., 0., 0., ..., 0., 0., 0.],\n",
              "       [0., 0., 0., ..., 0., 0., 1.],\n",
              "       [0., 1., 0., ..., 0., 0., 0.]], dtype=float32)"
            ]
          },
          "metadata": {},
          "execution_count": 23
        }
      ]
    },
    {
      "cell_type": "code",
      "source": [
        ""
      ],
      "metadata": {
        "id": "R-kuvL2qYvkr"
      },
      "execution_count": null,
      "outputs": []
    }
  ],
  "metadata": {
    "kernelspec": {
      "display_name": "Python 3 (ipykernel)",
      "language": "python",
      "name": "python3"
    },
    "language_info": {
      "codemirror_mode": {
        "name": "ipython",
        "version": 3
      },
      "file_extension": ".py",
      "mimetype": "text/x-python",
      "name": "python",
      "nbconvert_exporter": "python",
      "pygments_lexer": "ipython3",
      "version": "3.8.5"
    },
    "colab": {
      "name": "preprocessing.ipynb",
      "provenance": []
    }
  },
  "nbformat": 4,
  "nbformat_minor": 0
}