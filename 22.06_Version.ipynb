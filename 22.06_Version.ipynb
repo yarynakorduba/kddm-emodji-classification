{
 "cells": [
  {
   "cell_type": "code",
   "execution_count": null,
   "metadata": {},
   "outputs": [],
   "source": [
    "import sys\n",
    "print(sys.executable)"
   ]
  },
  {
   "cell_type": "code",
   "execution_count": 2,
   "metadata": {},
   "outputs": [],
   "source": [
    "import warnings\n",
    "warnings.filterwarnings('ignore')\n",
    "import pandas as pd\n",
    "import numpy as np\n",
    "import matplotlib.pyplot as plt\n",
    "import seaborn as sns\n",
    "import nltk\n",
    "from nltk.stem import PorterStemmer,WordNetLemmatizer\n",
    "#from wordclou import WordCloud\n",
    "import re\n",
    "import gensim\n",
    "from sklearn.model_selection import train_test_split\n",
    "from sklearn.feature_extraction.text import CountVectorizer,TfidfVectorizer\n",
    "from sklearn.utils import resample\n",
    "from sklearn.metrics import accuracy_score,f1_score\n",
    "from sklearn.neighbors import KNeighborsClassifier\n",
    "from sklearn.metrics import recall_score"
   ]
  },
  {
   "cell_type": "markdown",
   "metadata": {},
   "source": [
    "# Load the Dataset"
   ]
  },
  {
   "cell_type": "code",
   "execution_count": 3,
   "metadata": {},
   "outputs": [
    {
     "data": {
      "text/html": [
       "<div>\n",
       "<style scoped>\n",
       "    .dataframe tbody tr th:only-of-type {\n",
       "        vertical-align: middle;\n",
       "    }\n",
       "\n",
       "    .dataframe tbody tr th {\n",
       "        vertical-align: top;\n",
       "    }\n",
       "\n",
       "    .dataframe thead th {\n",
       "        text-align: right;\n",
       "    }\n",
       "</style>\n",
       "<table border=\"1\" class=\"dataframe\">\n",
       "  <thead>\n",
       "    <tr style=\"text-align: right;\">\n",
       "      <th></th>\n",
       "      <th>tweet</th>\n",
       "      <th>emoji_class</th>\n",
       "      <th>emoji</th>\n",
       "      <th>predicted_class</th>\n",
       "    </tr>\n",
       "  </thead>\n",
       "  <tbody>\n",
       "    <tr>\n",
       "      <th>0</th>\n",
       "      <td>Brought to you courtesy of the red white and b...</td>\n",
       "      <td>5</td>\n",
       "      <td>🇺🇸</td>\n",
       "      <td>None</td>\n",
       "    </tr>\n",
       "    <tr>\n",
       "      <th>1</th>\n",
       "      <td>@user #taotuesday @ TAO Downtown\\n</td>\n",
       "      <td>3</td>\n",
       "      <td>🔥</td>\n",
       "      <td>None</td>\n",
       "    </tr>\n",
       "    <tr>\n",
       "      <th>2</th>\n",
       "      <td>Ready to celebrate America with @user Happy #i...</td>\n",
       "      <td>5</td>\n",
       "      <td>🇺🇸</td>\n",
       "      <td>None</td>\n",
       "    </tr>\n",
       "    <tr>\n",
       "      <th>3</th>\n",
       "      <td>10min project w old footage #houstonphotograph...</td>\n",
       "      <td>2</td>\n",
       "      <td>📸</td>\n",
       "      <td>None</td>\n",
       "    </tr>\n",
       "  </tbody>\n",
       "</table>\n",
       "</div>"
      ],
      "text/plain": [
       "                                               tweet  emoji_class emoji  \\\n",
       "0  Brought to you courtesy of the red white and b...            5    🇺🇸   \n",
       "1                 @user #taotuesday @ TAO Downtown\\n            3     🔥   \n",
       "2  Ready to celebrate America with @user Happy #i...            5    🇺🇸   \n",
       "3  10min project w old footage #houstonphotograph...            2     📸   \n",
       "\n",
       "  predicted_class  \n",
       "0            None  \n",
       "1            None  \n",
       "2            None  \n",
       "3            None  "
      ]
     },
     "execution_count": 3,
     "metadata": {},
     "output_type": "execute_result"
    }
   ],
   "source": [
    "df = pd.read_pickle(\"C:/Users/patri/Desktop/Informatik/Knowledge Discovery and Data Mining 1/emoji/emoji_train.pkl\")      # Shape: (42627, 4)\n",
    "test = pd.read_pickle(\"C:/Users/patri/Desktop/Informatik/Knowledge Discovery and Data Mining 1/emoji/emoji_test.pkl\")        # (10657, 4)\n",
    "\n",
    "df.head(4)"
   ]
  },
  {
   "cell_type": "code",
   "execution_count": 4,
   "metadata": {},
   "outputs": [
    {
     "data": {
      "text/html": [
       "<div>\n",
       "<style scoped>\n",
       "    .dataframe tbody tr th:only-of-type {\n",
       "        vertical-align: middle;\n",
       "    }\n",
       "\n",
       "    .dataframe tbody tr th {\n",
       "        vertical-align: top;\n",
       "    }\n",
       "\n",
       "    .dataframe thead th {\n",
       "        text-align: right;\n",
       "    }\n",
       "</style>\n",
       "<table border=\"1\" class=\"dataframe\">\n",
       "  <thead>\n",
       "    <tr style=\"text-align: right;\">\n",
       "      <th></th>\n",
       "      <th>tweet</th>\n",
       "      <th>label</th>\n",
       "      <th>emoji</th>\n",
       "      <th>predicted_class</th>\n",
       "    </tr>\n",
       "  </thead>\n",
       "  <tbody>\n",
       "    <tr>\n",
       "      <th>0</th>\n",
       "      <td>Brought to you courtesy of the red white and b...</td>\n",
       "      <td>5</td>\n",
       "      <td>🇺🇸</td>\n",
       "      <td>None</td>\n",
       "    </tr>\n",
       "    <tr>\n",
       "      <th>1</th>\n",
       "      <td>@user #taotuesday @ TAO Downtown\\n</td>\n",
       "      <td>3</td>\n",
       "      <td>🔥</td>\n",
       "      <td>None</td>\n",
       "    </tr>\n",
       "    <tr>\n",
       "      <th>2</th>\n",
       "      <td>Ready to celebrate America with @user Happy #i...</td>\n",
       "      <td>5</td>\n",
       "      <td>🇺🇸</td>\n",
       "      <td>None</td>\n",
       "    </tr>\n",
       "    <tr>\n",
       "      <th>3</th>\n",
       "      <td>10min project w old footage #houstonphotograph...</td>\n",
       "      <td>2</td>\n",
       "      <td>📸</td>\n",
       "      <td>None</td>\n",
       "    </tr>\n",
       "  </tbody>\n",
       "</table>\n",
       "</div>"
      ],
      "text/plain": [
       "                                               tweet  label emoji  \\\n",
       "0  Brought to you courtesy of the red white and b...      5    🇺🇸   \n",
       "1                 @user #taotuesday @ TAO Downtown\\n      3     🔥   \n",
       "2  Ready to celebrate America with @user Happy #i...      5    🇺🇸   \n",
       "3  10min project w old footage #houstonphotograph...      2     📸   \n",
       "\n",
       "  predicted_class  \n",
       "0            None  \n",
       "1            None  \n",
       "2            None  \n",
       "3            None  "
      ]
     },
     "execution_count": 4,
     "metadata": {},
     "output_type": "execute_result"
    }
   ],
   "source": [
    "df = df.rename(columns={'emoji_class': 'label'})\n",
    "df.head(4)"
   ]
  },
  {
   "cell_type": "code",
   "execution_count": 5,
   "metadata": {},
   "outputs": [
    {
     "name": "stdout",
     "output_type": "stream",
     "text": [
      "<class 'pandas.core.frame.DataFrame'>\n",
      "RangeIndex: 42627 entries, 0 to 42626\n",
      "Data columns (total 4 columns):\n",
      " #   Column           Non-Null Count  Dtype \n",
      "---  ------           --------------  ----- \n",
      " 0   tweet            42627 non-null  object\n",
      " 1   label            42627 non-null  int64 \n",
      " 2   emoji            42627 non-null  object\n",
      " 3   predicted_class  0 non-null      object\n",
      "dtypes: int64(1), object(3)\n",
      "memory usage: 1.3+ MB\n",
      "None\n",
      "shape of train dataset (42627, 4)\n",
      "0    16846\n",
      "1     7801\n",
      "2     6103\n",
      "3     4884\n",
      "4     2450\n",
      "5     2431\n",
      "6     2112\n",
      "Name: label, dtype: int64\n"
     ]
    },
    {
     "data": {
      "image/png": "[encoded data removed]",
      "text/plain": [
       "<Figure size 432x288 with 1 Axes>"
      ]
     },
     "metadata": {
      "needs_background": "light"
     },
     "output_type": "display_data"
    }
   ],
   "source": [
    "print(df.info())\n",
    "print('shape of train dataset',df.shape)\n",
    "print(df.label.value_counts())\n",
    "\n",
    "sns.countplot(df.label,)\n",
    "plt.xlabel('class label')\n",
    "plt.ylabel('number of tweets')\n",
    "plt.show()"
   ]
  },
  {
   "cell_type": "code",
   "execution_count": 6,
   "metadata": {},
   "outputs": [
    {
     "data": {
      "image/png": "[encoded data removed]",
      "text/plain": [
       "<Figure size 432x288 with 1 Axes>"
      ]
     },
     "metadata": {
      "needs_background": "light"
     },
     "output_type": "display_data"
    },
    {
     "data": {
      "image/png": "[encoded data removed]",
      "text/plain": [
       "<Figure size 432x288 with 1 Axes>"
      ]
     },
     "metadata": {
      "needs_background": "light"
     },
     "output_type": "display_data"
    }
   ],
   "source": [
    "# plt.hist(df[df['label']==1].tweet.str.len(),bins=20,label='class 1')\n",
    "# plt.legend()\n",
    "# plt.xlabel('length of tweets')\n",
    "# plt.ylabel('number of tweets')\n",
    "# plt.show()\n",
    "# plt.hist(df[df['label']==0].tweet.str.len(),color='yellow',bins=20,label='class 0')\n",
    "# plt.legend()\n",
    "# plt.xlabel('length of tweets')\n",
    "# plt.ylabel('number of tweets')\n",
    "# plt.show()"
   ]
  },
  {
   "cell_type": "markdown",
   "metadata": {},
   "source": [
    "## Preprocessing Tweet Text\n",
    "   1. Removing Twitter Handles (@user)\n",
    "   2. Removing urls from text\n",
    "   3. Removing Punctuations, Numbers, and Special Characters\n",
    "   4. Convert the word to lowercase\n",
    "   5. Remove Stopwords\n",
    "   6. Stemming the word\n",
    "   7. Lemmatization\n",
    "After which we collect the words used to describe positive and negative reviews"
   ]
  },
  {
   "cell_type": "code",
   "execution_count": 7,
   "metadata": {},
   "outputs": [
    {
     "name": "stdout",
     "output_type": "stream",
     "text": [
      "53284\n"
     ]
    }
   ],
   "source": [
    "text=df['tweet'].values.tolist()\n",
    "text_test=test['tweet'].values.tolist()\n",
    "text+=text_test\n",
    "print(len(text))"
   ]
  },
  {
   "cell_type": "code",
   "execution_count": 8,
   "metadata": {},
   "outputs": [],
   "source": [
    "import nltk\n",
    "stopword=nltk.corpus.stopwords.words('english')\n",
    "stopword.remove('not')\n",
    "for index,text_ in enumerate(text):\n",
    "    text_=re.sub(r'@[\\w]*','',text_) #Removing Twitter Handles (@user)\n",
    "    text_=re.sub(r'http/S+','',text_) #Removing urls from text \n",
    "    text_=re.sub(r'[^A-Za-z#]',' ',text_) #Removing Punctuations, Numbers, and Special Characters\n",
    "    text_=\" \".join(i.lower() for i in text_.split() if i.lower() not in stopword) #Removing stopword\n",
    "    text[index]=text_"
   ]
  },
  {
   "cell_type": "code",
   "execution_count": 9,
   "metadata": {},
   "outputs": [],
   "source": [
    "# #Stemming the word\n",
    "# pt=PorterStemmer()\n",
    "# wordnet=WordNetLemmatizer()\n",
    "# for index,text_ in enumerate(text):\n",
    "#     text_=\" \".join(pt.stem(i) for i in text_.split())\n",
    "#     text_=\" \".join(wordnet.lemmatize(i) for i in text_.split())  \n",
    "#     text[index]=text_"
   ]
  },
  {
   "cell_type": "code",
   "execution_count": 10,
   "metadata": {},
   "outputs": [
    {
     "data": {
      "text/html": [
       "<div>\n",
       "<style scoped>\n",
       "    .dataframe tbody tr th:only-of-type {\n",
       "        vertical-align: middle;\n",
       "    }\n",
       "\n",
       "    .dataframe tbody tr th {\n",
       "        vertical-align: top;\n",
       "    }\n",
       "\n",
       "    .dataframe thead th {\n",
       "        text-align: right;\n",
       "    }\n",
       "</style>\n",
       "<table border=\"1\" class=\"dataframe\">\n",
       "  <thead>\n",
       "    <tr style=\"text-align: right;\">\n",
       "      <th></th>\n",
       "      <th>tweet</th>\n",
       "      <th>label</th>\n",
       "      <th>emoji</th>\n",
       "      <th>predicted_class</th>\n",
       "      <th>preprocess_tweet</th>\n",
       "      <th>length_tweet</th>\n",
       "    </tr>\n",
       "  </thead>\n",
       "  <tbody>\n",
       "    <tr>\n",
       "      <th>0</th>\n",
       "      <td>Brought to you courtesy of the red white and b...</td>\n",
       "      <td>5</td>\n",
       "      <td>🇺🇸</td>\n",
       "      <td>None</td>\n",
       "      <td>brought courtesy red white blue welcome home s...</td>\n",
       "      <td>52</td>\n",
       "    </tr>\n",
       "    <tr>\n",
       "      <th>1</th>\n",
       "      <td>@user #taotuesday @ TAO Downtown\\n</td>\n",
       "      <td>3</td>\n",
       "      <td>🔥</td>\n",
       "      <td>None</td>\n",
       "      <td>#taotuesday tao downtown</td>\n",
       "      <td>24</td>\n",
       "    </tr>\n",
       "    <tr>\n",
       "      <th>2</th>\n",
       "      <td>Ready to celebrate America with @user Happy #i...</td>\n",
       "      <td>5</td>\n",
       "      <td>🇺🇸</td>\n",
       "      <td>None</td>\n",
       "      <td>ready celebrate america happy #independenceday...</td>\n",
       "      <td>60</td>\n",
       "    </tr>\n",
       "    <tr>\n",
       "      <th>3</th>\n",
       "      <td>10min project w old footage #houstonphotograph...</td>\n",
       "      <td>2</td>\n",
       "      <td>📸</td>\n",
       "      <td>None</td>\n",
       "      <td>min project w old footage #houstonphotographer...</td>\n",
       "      <td>81</td>\n",
       "    </tr>\n",
       "    <tr>\n",
       "      <th>4</th>\n",
       "      <td>Usually I don't put song on my insta but this ...</td>\n",
       "      <td>3</td>\n",
       "      <td>🔥</td>\n",
       "      <td>None</td>\n",
       "      <td>usually put song insta shit fire thank #aoifou...</td>\n",
       "      <td>59</td>\n",
       "    </tr>\n",
       "  </tbody>\n",
       "</table>\n",
       "</div>"
      ],
      "text/plain": [
       "                                               tweet  label emoji  \\\n",
       "0  Brought to you courtesy of the red white and b...      5    🇺🇸   \n",
       "1                 @user #taotuesday @ TAO Downtown\\n      3     🔥   \n",
       "2  Ready to celebrate America with @user Happy #i...      5    🇺🇸   \n",
       "3  10min project w old footage #houstonphotograph...      2     📸   \n",
       "4  Usually I don't put song on my insta but this ...      3     🔥   \n",
       "\n",
       "  predicted_class                                   preprocess_tweet  \\\n",
       "0            None  brought courtesy red white blue welcome home s...   \n",
       "1            None                           #taotuesday tao downtown   \n",
       "2            None  ready celebrate america happy #independenceday...   \n",
       "3            None  min project w old footage #houstonphotographer...   \n",
       "4            None  usually put song insta shit fire thank #aoifou...   \n",
       "\n",
       "   length_tweet  \n",
       "0            52  \n",
       "1            24  \n",
       "2            60  \n",
       "3            81  \n",
       "4            59  "
      ]
     },
     "execution_count": 10,
     "metadata": {},
     "output_type": "execute_result"
    }
   ],
   "source": [
    "df['preprocess_tweet']=text[:len(df)]\n",
    "df['length_tweet']=df['preprocess_tweet'].str.len()\n",
    "test['preprocess_tweet']=text[len(df):]\n",
    "df.head()"
   ]
  },
  {
   "cell_type": "markdown",
   "metadata": {},
   "source": [
    "# Featurization"
   ]
  },
  {
   "cell_type": "markdown",
   "metadata": {},
   "source": [
    "## BOW"
   ]
  },
  {
   "cell_type": "code",
   "execution_count": 11,
   "metadata": {},
   "outputs": [],
   "source": [
    "train=df.copy()\n",
    "train.drop(columns=['tweet','label','predicted_class','preprocess_tweet'],inplace=True)"
   ]
  },
  {
   "cell_type": "code",
   "execution_count": 12,
   "metadata": {},
   "outputs": [
    {
     "name": "stdout",
     "output_type": "stream",
     "text": [
      "feature name== ['able', 'absolutely', 'academy', 'action', 'actually', 'adventure', 'adventures', 'af', 'afternoon', 'ago']\n",
      "number of uniqe words 1000\n",
      "shape (42627, 1000)\n"
     ]
    },
    {
     "data": {
      "text/html": [
       "<div>\n",
       "<style scoped>\n",
       "    .dataframe tbody tr th:only-of-type {\n",
       "        vertical-align: middle;\n",
       "    }\n",
       "\n",
       "    .dataframe tbody tr th {\n",
       "        vertical-align: top;\n",
       "    }\n",
       "\n",
       "    .dataframe thead th {\n",
       "        text-align: right;\n",
       "    }\n",
       "</style>\n",
       "<table border=\"1\" class=\"dataframe\">\n",
       "  <thead>\n",
       "    <tr style=\"text-align: right;\">\n",
       "      <th></th>\n",
       "      <th>0</th>\n",
       "      <th>1</th>\n",
       "      <th>2</th>\n",
       "      <th>3</th>\n",
       "      <th>4</th>\n",
       "      <th>5</th>\n",
       "      <th>6</th>\n",
       "      <th>7</th>\n",
       "      <th>8</th>\n",
       "      <th>9</th>\n",
       "      <th>...</th>\n",
       "      <th>992</th>\n",
       "      <th>993</th>\n",
       "      <th>994</th>\n",
       "      <th>995</th>\n",
       "      <th>996</th>\n",
       "      <th>997</th>\n",
       "      <th>998</th>\n",
       "      <th>999</th>\n",
       "      <th>length_tweet</th>\n",
       "      <th>label</th>\n",
       "    </tr>\n",
       "  </thead>\n",
       "  <tbody>\n",
       "    <tr>\n",
       "      <th>0</th>\n",
       "      <td>0</td>\n",
       "      <td>0</td>\n",
       "      <td>0</td>\n",
       "      <td>0</td>\n",
       "      <td>0</td>\n",
       "      <td>0</td>\n",
       "      <td>0</td>\n",
       "      <td>0</td>\n",
       "      <td>0</td>\n",
       "      <td>0</td>\n",
       "      <td>...</td>\n",
       "      <td>0</td>\n",
       "      <td>0</td>\n",
       "      <td>0</td>\n",
       "      <td>0</td>\n",
       "      <td>0</td>\n",
       "      <td>0</td>\n",
       "      <td>0</td>\n",
       "      <td>0</td>\n",
       "      <td>52</td>\n",
       "      <td>5</td>\n",
       "    </tr>\n",
       "    <tr>\n",
       "      <th>1</th>\n",
       "      <td>0</td>\n",
       "      <td>0</td>\n",
       "      <td>0</td>\n",
       "      <td>0</td>\n",
       "      <td>0</td>\n",
       "      <td>0</td>\n",
       "      <td>0</td>\n",
       "      <td>0</td>\n",
       "      <td>0</td>\n",
       "      <td>0</td>\n",
       "      <td>...</td>\n",
       "      <td>0</td>\n",
       "      <td>0</td>\n",
       "      <td>0</td>\n",
       "      <td>0</td>\n",
       "      <td>0</td>\n",
       "      <td>0</td>\n",
       "      <td>0</td>\n",
       "      <td>0</td>\n",
       "      <td>24</td>\n",
       "      <td>3</td>\n",
       "    </tr>\n",
       "    <tr>\n",
       "      <th>2</th>\n",
       "      <td>0</td>\n",
       "      <td>0</td>\n",
       "      <td>0</td>\n",
       "      <td>0</td>\n",
       "      <td>0</td>\n",
       "      <td>0</td>\n",
       "      <td>0</td>\n",
       "      <td>0</td>\n",
       "      <td>0</td>\n",
       "      <td>0</td>\n",
       "      <td>...</td>\n",
       "      <td>0</td>\n",
       "      <td>0</td>\n",
       "      <td>0</td>\n",
       "      <td>0</td>\n",
       "      <td>0</td>\n",
       "      <td>0</td>\n",
       "      <td>0</td>\n",
       "      <td>0</td>\n",
       "      <td>60</td>\n",
       "      <td>5</td>\n",
       "    </tr>\n",
       "    <tr>\n",
       "      <th>3</th>\n",
       "      <td>0</td>\n",
       "      <td>0</td>\n",
       "      <td>0</td>\n",
       "      <td>0</td>\n",
       "      <td>0</td>\n",
       "      <td>0</td>\n",
       "      <td>0</td>\n",
       "      <td>0</td>\n",
       "      <td>0</td>\n",
       "      <td>0</td>\n",
       "      <td>...</td>\n",
       "      <td>0</td>\n",
       "      <td>0</td>\n",
       "      <td>0</td>\n",
       "      <td>0</td>\n",
       "      <td>0</td>\n",
       "      <td>0</td>\n",
       "      <td>0</td>\n",
       "      <td>0</td>\n",
       "      <td>81</td>\n",
       "      <td>2</td>\n",
       "    </tr>\n",
       "    <tr>\n",
       "      <th>4</th>\n",
       "      <td>0</td>\n",
       "      <td>0</td>\n",
       "      <td>0</td>\n",
       "      <td>0</td>\n",
       "      <td>0</td>\n",
       "      <td>0</td>\n",
       "      <td>0</td>\n",
       "      <td>0</td>\n",
       "      <td>0</td>\n",
       "      <td>0</td>\n",
       "      <td>...</td>\n",
       "      <td>0</td>\n",
       "      <td>0</td>\n",
       "      <td>0</td>\n",
       "      <td>0</td>\n",
       "      <td>0</td>\n",
       "      <td>0</td>\n",
       "      <td>0</td>\n",
       "      <td>0</td>\n",
       "      <td>59</td>\n",
       "      <td>3</td>\n",
       "    </tr>\n",
       "  </tbody>\n",
       "</table>\n",
       "<p>5 rows × 1002 columns</p>\n",
       "</div>"
      ],
      "text/plain": [
       "   0  1  2  3  4  5  6  7  8  9  ...  992  993  994  995  996  997  998  999  \\\n",
       "0  0  0  0  0  0  0  0  0  0  0  ...    0    0    0    0    0    0    0    0   \n",
       "1  0  0  0  0  0  0  0  0  0  0  ...    0    0    0    0    0    0    0    0   \n",
       "2  0  0  0  0  0  0  0  0  0  0  ...    0    0    0    0    0    0    0    0   \n",
       "3  0  0  0  0  0  0  0  0  0  0  ...    0    0    0    0    0    0    0    0   \n",
       "4  0  0  0  0  0  0  0  0  0  0  ...    0    0    0    0    0    0    0    0   \n",
       "\n",
       "   length_tweet  label  \n",
       "0            52      5  \n",
       "1            24      3  \n",
       "2            60      5  \n",
       "3            81      2  \n",
       "4            59      3  \n",
       "\n",
       "[5 rows x 1002 columns]"
      ]
     },
     "execution_count": 12,
     "metadata": {},
     "output_type": "execute_result"
    }
   ],
   "source": [
    "bow=CountVectorizer( min_df=2, max_features=1000)\n",
    "bow.fit(df['preprocess_tweet'])\n",
    "bow_df=bow.transform(df['preprocess_tweet']).toarray()\n",
    "print('feature name==',bow.get_feature_names()[:10])\n",
    "print('number of uniqe words',bow_df.shape[1])\n",
    "print('shape',bow_df.shape)\n",
    "bow_train=pd.DataFrame(bow_df)\n",
    "bow_train['length_tweet']=df['length_tweet']\n",
    "bow_train['label']=df['label']\n",
    "bow_train.head()"
   ]
  },
  {
   "cell_type": "markdown",
   "metadata": {},
   "source": [
    "## TF-IDF Features (Bi-Grams)"
   ]
  },
  {
   "cell_type": "code",
   "execution_count": 13,
   "metadata": {},
   "outputs": [
    {
     "name": "stdout",
     "output_type": "stream",
     "text": [
      "number of uniqe words 1000\n",
      "shape (42627, 1000)\n"
     ]
    },
    {
     "data": {
      "text/html": [
       "<div>\n",
       "<style scoped>\n",
       "    .dataframe tbody tr th:only-of-type {\n",
       "        vertical-align: middle;\n",
       "    }\n",
       "\n",
       "    .dataframe tbody tr th {\n",
       "        vertical-align: top;\n",
       "    }\n",
       "\n",
       "    .dataframe thead th {\n",
       "        text-align: right;\n",
       "    }\n",
       "</style>\n",
       "<table border=\"1\" class=\"dataframe\">\n",
       "  <thead>\n",
       "    <tr style=\"text-align: right;\">\n",
       "      <th></th>\n",
       "      <th>0</th>\n",
       "      <th>1</th>\n",
       "      <th>2</th>\n",
       "      <th>3</th>\n",
       "      <th>4</th>\n",
       "      <th>5</th>\n",
       "      <th>6</th>\n",
       "      <th>7</th>\n",
       "      <th>8</th>\n",
       "      <th>9</th>\n",
       "      <th>...</th>\n",
       "      <th>992</th>\n",
       "      <th>993</th>\n",
       "      <th>994</th>\n",
       "      <th>995</th>\n",
       "      <th>996</th>\n",
       "      <th>997</th>\n",
       "      <th>998</th>\n",
       "      <th>999</th>\n",
       "      <th>length_tweet</th>\n",
       "      <th>label</th>\n",
       "    </tr>\n",
       "  </thead>\n",
       "  <tbody>\n",
       "    <tr>\n",
       "      <th>0</th>\n",
       "      <td>0.0</td>\n",
       "      <td>0.0</td>\n",
       "      <td>0.0</td>\n",
       "      <td>0.0</td>\n",
       "      <td>0.0</td>\n",
       "      <td>0.0</td>\n",
       "      <td>0.0</td>\n",
       "      <td>0.0</td>\n",
       "      <td>0.0</td>\n",
       "      <td>0.0</td>\n",
       "      <td>...</td>\n",
       "      <td>0.0</td>\n",
       "      <td>0.0</td>\n",
       "      <td>0.0</td>\n",
       "      <td>0.0</td>\n",
       "      <td>0.0</td>\n",
       "      <td>0.0</td>\n",
       "      <td>0.0</td>\n",
       "      <td>0.0</td>\n",
       "      <td>52</td>\n",
       "      <td>5</td>\n",
       "    </tr>\n",
       "    <tr>\n",
       "      <th>1</th>\n",
       "      <td>0.0</td>\n",
       "      <td>0.0</td>\n",
       "      <td>0.0</td>\n",
       "      <td>0.0</td>\n",
       "      <td>0.0</td>\n",
       "      <td>0.0</td>\n",
       "      <td>0.0</td>\n",
       "      <td>0.0</td>\n",
       "      <td>0.0</td>\n",
       "      <td>0.0</td>\n",
       "      <td>...</td>\n",
       "      <td>0.0</td>\n",
       "      <td>0.0</td>\n",
       "      <td>0.0</td>\n",
       "      <td>0.0</td>\n",
       "      <td>0.0</td>\n",
       "      <td>0.0</td>\n",
       "      <td>0.0</td>\n",
       "      <td>0.0</td>\n",
       "      <td>24</td>\n",
       "      <td>3</td>\n",
       "    </tr>\n",
       "    <tr>\n",
       "      <th>2</th>\n",
       "      <td>0.0</td>\n",
       "      <td>0.0</td>\n",
       "      <td>0.0</td>\n",
       "      <td>0.0</td>\n",
       "      <td>0.0</td>\n",
       "      <td>0.0</td>\n",
       "      <td>0.0</td>\n",
       "      <td>0.0</td>\n",
       "      <td>0.0</td>\n",
       "      <td>0.0</td>\n",
       "      <td>...</td>\n",
       "      <td>0.0</td>\n",
       "      <td>0.0</td>\n",
       "      <td>0.0</td>\n",
       "      <td>0.0</td>\n",
       "      <td>0.0</td>\n",
       "      <td>0.0</td>\n",
       "      <td>0.0</td>\n",
       "      <td>0.0</td>\n",
       "      <td>60</td>\n",
       "      <td>5</td>\n",
       "    </tr>\n",
       "    <tr>\n",
       "      <th>3</th>\n",
       "      <td>0.0</td>\n",
       "      <td>0.0</td>\n",
       "      <td>0.0</td>\n",
       "      <td>0.0</td>\n",
       "      <td>0.0</td>\n",
       "      <td>0.0</td>\n",
       "      <td>0.0</td>\n",
       "      <td>0.0</td>\n",
       "      <td>0.0</td>\n",
       "      <td>0.0</td>\n",
       "      <td>...</td>\n",
       "      <td>0.0</td>\n",
       "      <td>0.0</td>\n",
       "      <td>0.0</td>\n",
       "      <td>0.0</td>\n",
       "      <td>0.0</td>\n",
       "      <td>0.0</td>\n",
       "      <td>0.0</td>\n",
       "      <td>0.0</td>\n",
       "      <td>81</td>\n",
       "      <td>2</td>\n",
       "    </tr>\n",
       "    <tr>\n",
       "      <th>4</th>\n",
       "      <td>0.0</td>\n",
       "      <td>0.0</td>\n",
       "      <td>0.0</td>\n",
       "      <td>0.0</td>\n",
       "      <td>0.0</td>\n",
       "      <td>0.0</td>\n",
       "      <td>0.0</td>\n",
       "      <td>0.0</td>\n",
       "      <td>0.0</td>\n",
       "      <td>0.0</td>\n",
       "      <td>...</td>\n",
       "      <td>0.0</td>\n",
       "      <td>0.0</td>\n",
       "      <td>0.0</td>\n",
       "      <td>0.0</td>\n",
       "      <td>0.0</td>\n",
       "      <td>0.0</td>\n",
       "      <td>0.0</td>\n",
       "      <td>0.0</td>\n",
       "      <td>59</td>\n",
       "      <td>3</td>\n",
       "    </tr>\n",
       "  </tbody>\n",
       "</table>\n",
       "<p>5 rows × 1002 columns</p>\n",
       "</div>"
      ],
      "text/plain": [
       "     0    1    2    3    4    5    6    7    8    9  ...  992  993  994  995  \\\n",
       "0  0.0  0.0  0.0  0.0  0.0  0.0  0.0  0.0  0.0  0.0  ...  0.0  0.0  0.0  0.0   \n",
       "1  0.0  0.0  0.0  0.0  0.0  0.0  0.0  0.0  0.0  0.0  ...  0.0  0.0  0.0  0.0   \n",
       "2  0.0  0.0  0.0  0.0  0.0  0.0  0.0  0.0  0.0  0.0  ...  0.0  0.0  0.0  0.0   \n",
       "3  0.0  0.0  0.0  0.0  0.0  0.0  0.0  0.0  0.0  0.0  ...  0.0  0.0  0.0  0.0   \n",
       "4  0.0  0.0  0.0  0.0  0.0  0.0  0.0  0.0  0.0  0.0  ...  0.0  0.0  0.0  0.0   \n",
       "\n",
       "   996  997  998  999  length_tweet  label  \n",
       "0  0.0  0.0  0.0  0.0            52      5  \n",
       "1  0.0  0.0  0.0  0.0            24      3  \n",
       "2  0.0  0.0  0.0  0.0            60      5  \n",
       "3  0.0  0.0  0.0  0.0            81      2  \n",
       "4  0.0  0.0  0.0  0.0            59      3  \n",
       "\n",
       "[5 rows x 1002 columns]"
      ]
     },
     "execution_count": 13,
     "metadata": {},
     "output_type": "execute_result"
    }
   ],
   "source": [
    "tfidf=TfidfVectorizer(ngram_range=(1, 2),min_df=2,max_features=1000)\n",
    "tfidf.fit(df['preprocess_tweet'])\n",
    "tfidf_df=tfidf.transform(df['preprocess_tweet']).toarray()\n",
    "print('number of uniqe words',bow_df.shape[1])\n",
    "print('shape',tfidf_df.shape)\n",
    "tfidf_train=pd.DataFrame(tfidf_df)\n",
    "tfidf_train['length_tweet']=df['length_tweet']\n",
    "tfidf_train['label']=df['label']\n",
    "tfidf_train.head()"
   ]
  },
  {
   "cell_type": "code",
   "execution_count": 14,
   "metadata": {},
   "outputs": [
    {
     "data": {
      "text/plain": [
       "(5916799, 6125420)"
      ]
     },
     "execution_count": 14,
     "metadata": {},
     "output_type": "execute_result"
    }
   ],
   "source": [
    "tokenize=df['preprocess_tweet'].apply(lambda x: x.split())\n",
    "w2vec_model=gensim.models.Word2Vec(tokenize,min_count = 1, vector_size= 100, window = 5, sg = 1)\n",
    "w2vec_model.train(tokenize,total_examples= len(df['preprocess_tweet']),epochs=20)"
   ]
  },
  {
   "cell_type": "code",
   "execution_count": 15,
   "metadata": {},
   "outputs": [
    {
     "name": "stdout",
     "output_type": "stream",
     "text": [
      "number of words that occured minimum 5 times  57819\n",
      "sample words  ['love', 'california', 'new', 'amp', 'happy', 'day', 'christmas', 'beach', '#', 'night', 'today', 'time', 'los', 'one', 'angeles', 'like', 'san', 'park', 'good', 'get', 'last', 'best', 'thank', 'city', 'back', 'got', 'great', 'family', 'birthday', 'beautiful', 'york', 'little', 'not', 'see', 'life', 'morning', 'tonight', 'home', 'th', 'much', 'vegas', 'fun', 'thanks', 'first', 'favorite', 'go', 'always', 'us', 'merry', 'las']\n"
     ]
    }
   ],
   "source": [
    "#w2v_words = list(w2vec_model.wv.vocab)\n",
    "w2v_words = list(w2vec_model.wv.index_to_key)\n",
    "print(\"number of words that occured minimum 5 times \",len(w2v_words))\n",
    "print(\"sample words \", w2v_words[0:50])"
   ]
  },
  {
   "cell_type": "code",
   "execution_count": 16,
   "metadata": {},
   "outputs": [
    {
     "name": "stderr",
     "output_type": "stream",
     "text": [
      "100%|██████████| 42627/42627 [00:39<00:00, 1074.85it/s]"
     ]
    },
    {
     "name": "stdout",
     "output_type": "stream",
     "text": [
      "42627\n",
      "100\n"
     ]
    },
    {
     "name": "stderr",
     "output_type": "stream",
     "text": [
      "\n"
     ]
    }
   ],
   "source": [
    "vector=[]\n",
    "from tqdm import tqdm\n",
    "for sent in tqdm(tokenize):\n",
    "  sent_vec=np.zeros(100)\n",
    "  count =0\n",
    "  for word in sent: \n",
    "    if word in w2v_words:\n",
    "      vec = w2vec_model.wv[word]\n",
    "      sent_vec += vec \n",
    "      count += 1\n",
    "  if count != 0:\n",
    "    sent_vec /= count #normalize\n",
    "  vector.append(sent_vec)\n",
    "print(len(vector))\n",
    "print(len(vector[0]))    "
   ]
  },
  {
   "cell_type": "code",
   "execution_count": 17,
   "metadata": {},
   "outputs": [
    {
     "data": {
      "text/plain": [
       "array([-23.35665803,  10.35590965,  13.72649982,   0.95274744,\n",
       "        -7.96453583,  -9.24832931,  13.36645798,   8.74694233,\n",
       "         2.51965622, -16.34262808,  11.3161699 ,  -4.09911373,\n",
       "        -1.63429006,   4.89034456,  -0.50372917, -16.51277399,\n",
       "        -3.15686756, -21.19634694,   3.99742229, -12.87553293,\n",
       "        -0.19453453,   1.96922255,   0.98335251,  -7.17777404,\n",
       "        -6.8386993 ,  -3.46003179,  -1.69806663,  -2.49499721,\n",
       "         5.20535716,  -2.51343987,  15.9347568 ,   7.42172267,\n",
       "         2.80137806,   2.28657466,  12.97278082,   9.66595891,\n",
       "       -20.59373146, -15.64399511,  -2.57823593,  -6.60740419,\n",
       "        -0.63137972,   3.61201161,  -7.78459365,  -9.55320674,\n",
       "         5.88417765, -14.41112857,   3.0412926 ,  -3.17253759,\n",
       "         1.07523751,   2.4262111 ,  11.91049377,  -5.90567371,\n",
       "         6.66229743,   2.89408131,  -7.55049872, -13.69815072,\n",
       "        24.85286427, -13.0914821 ,   6.05507344,  -8.36832802,\n",
       "        -3.737422  ,  -4.97431053,   5.09342051,   1.90155789,\n",
       "       -14.96197996,   3.51665789,  11.80537099,   6.79357083,\n",
       "       -12.17671013,   5.84030654,  16.13320801,   5.94012918,\n",
       "        16.60120012,   9.84676808,  15.66397986,  -0.63927387,\n",
       "         7.17844592,  -3.61150867, -16.9725629 ,   0.11499315,\n",
       "        -1.90600633,  -9.83427683,   0.50545853,  16.08864275,\n",
       "        17.352525  ,  -4.23535012,  -7.41655423,   1.36616435,\n",
       "        10.21483922,   9.23699408,   9.67429839,   6.03173611,\n",
       "         7.36099723,  -1.73654207,  -1.95412561,  -8.7594284 ,\n",
       "         1.49879195,  -7.72213368,   9.00860308,   2.28179893])"
      ]
     },
     "execution_count": 17,
     "metadata": {},
     "output_type": "execute_result"
    }
   ],
   "source": [
    "#example\n",
    "l='father dysfunct selfish drag kid dysfunct'\n",
    "count=0\n",
    "vcc=np.zeros(100)\n",
    "for word in l:\n",
    "  if word in w2v_words:\n",
    "    v=w2vec_model.wv[word]\n",
    "    vcc+=v\n",
    "    count+=1\n",
    "vcc"
   ]
  },
  {
   "cell_type": "code",
   "execution_count": 18,
   "metadata": {},
   "outputs": [
    {
     "name": "stdout",
     "output_type": "stream",
     "text": [
      "number of uniqe words 100\n"
     ]
    },
    {
     "data": {
      "text/html": [
       "<div>\n",
       "<style scoped>\n",
       "    .dataframe tbody tr th:only-of-type {\n",
       "        vertical-align: middle;\n",
       "    }\n",
       "\n",
       "    .dataframe tbody tr th {\n",
       "        vertical-align: top;\n",
       "    }\n",
       "\n",
       "    .dataframe thead th {\n",
       "        text-align: right;\n",
       "    }\n",
       "</style>\n",
       "<table border=\"1\" class=\"dataframe\">\n",
       "  <thead>\n",
       "    <tr style=\"text-align: right;\">\n",
       "      <th></th>\n",
       "      <th>0</th>\n",
       "      <th>1</th>\n",
       "      <th>2</th>\n",
       "      <th>3</th>\n",
       "      <th>4</th>\n",
       "      <th>5</th>\n",
       "      <th>6</th>\n",
       "      <th>7</th>\n",
       "      <th>8</th>\n",
       "      <th>9</th>\n",
       "      <th>...</th>\n",
       "      <th>92</th>\n",
       "      <th>93</th>\n",
       "      <th>94</th>\n",
       "      <th>95</th>\n",
       "      <th>96</th>\n",
       "      <th>97</th>\n",
       "      <th>98</th>\n",
       "      <th>99</th>\n",
       "      <th>length_tweet</th>\n",
       "      <th>label</th>\n",
       "    </tr>\n",
       "  </thead>\n",
       "  <tbody>\n",
       "    <tr>\n",
       "      <th>0</th>\n",
       "      <td>0.055041</td>\n",
       "      <td>0.342952</td>\n",
       "      <td>-0.047198</td>\n",
       "      <td>-0.162306</td>\n",
       "      <td>-0.171862</td>\n",
       "      <td>-0.497574</td>\n",
       "      <td>0.794384</td>\n",
       "      <td>0.860793</td>\n",
       "      <td>-0.072595</td>\n",
       "      <td>-0.259542</td>\n",
       "      <td>...</td>\n",
       "      <td>-0.201861</td>\n",
       "      <td>0.146976</td>\n",
       "      <td>0.666662</td>\n",
       "      <td>0.042508</td>\n",
       "      <td>0.556936</td>\n",
       "      <td>-0.533800</td>\n",
       "      <td>0.030416</td>\n",
       "      <td>0.288233</td>\n",
       "      <td>52</td>\n",
       "      <td>5</td>\n",
       "    </tr>\n",
       "    <tr>\n",
       "      <th>1</th>\n",
       "      <td>-0.532543</td>\n",
       "      <td>0.081871</td>\n",
       "      <td>-0.190665</td>\n",
       "      <td>-0.031546</td>\n",
       "      <td>-0.106032</td>\n",
       "      <td>-0.139156</td>\n",
       "      <td>-0.077580</td>\n",
       "      <td>0.522287</td>\n",
       "      <td>0.433813</td>\n",
       "      <td>-0.227126</td>\n",
       "      <td>...</td>\n",
       "      <td>0.139921</td>\n",
       "      <td>0.149679</td>\n",
       "      <td>0.517698</td>\n",
       "      <td>0.210104</td>\n",
       "      <td>0.179381</td>\n",
       "      <td>-0.227100</td>\n",
       "      <td>-0.122636</td>\n",
       "      <td>-0.148326</td>\n",
       "      <td>24</td>\n",
       "      <td>3</td>\n",
       "    </tr>\n",
       "    <tr>\n",
       "      <th>2</th>\n",
       "      <td>-0.452197</td>\n",
       "      <td>0.198134</td>\n",
       "      <td>-0.351166</td>\n",
       "      <td>-0.248881</td>\n",
       "      <td>-0.200318</td>\n",
       "      <td>-0.321283</td>\n",
       "      <td>0.637267</td>\n",
       "      <td>0.978443</td>\n",
       "      <td>-0.242945</td>\n",
       "      <td>-0.235555</td>\n",
       "      <td>...</td>\n",
       "      <td>-0.074714</td>\n",
       "      <td>-0.222846</td>\n",
       "      <td>0.557966</td>\n",
       "      <td>0.365895</td>\n",
       "      <td>0.025867</td>\n",
       "      <td>-0.279018</td>\n",
       "      <td>0.489970</td>\n",
       "      <td>0.562526</td>\n",
       "      <td>60</td>\n",
       "      <td>5</td>\n",
       "    </tr>\n",
       "    <tr>\n",
       "      <th>3</th>\n",
       "      <td>-0.243941</td>\n",
       "      <td>0.106598</td>\n",
       "      <td>0.196419</td>\n",
       "      <td>0.041939</td>\n",
       "      <td>0.086289</td>\n",
       "      <td>-0.560076</td>\n",
       "      <td>-0.105092</td>\n",
       "      <td>0.431394</td>\n",
       "      <td>0.071005</td>\n",
       "      <td>0.128909</td>\n",
       "      <td>...</td>\n",
       "      <td>0.323483</td>\n",
       "      <td>0.067205</td>\n",
       "      <td>0.531843</td>\n",
       "      <td>0.015695</td>\n",
       "      <td>0.116626</td>\n",
       "      <td>-0.605519</td>\n",
       "      <td>0.231986</td>\n",
       "      <td>-0.398223</td>\n",
       "      <td>81</td>\n",
       "      <td>2</td>\n",
       "    </tr>\n",
       "    <tr>\n",
       "      <th>4</th>\n",
       "      <td>0.347264</td>\n",
       "      <td>0.460464</td>\n",
       "      <td>-0.058768</td>\n",
       "      <td>0.202997</td>\n",
       "      <td>-0.439789</td>\n",
       "      <td>-0.309569</td>\n",
       "      <td>-0.225985</td>\n",
       "      <td>0.544057</td>\n",
       "      <td>-0.172887</td>\n",
       "      <td>0.153737</td>\n",
       "      <td>...</td>\n",
       "      <td>0.035090</td>\n",
       "      <td>0.082317</td>\n",
       "      <td>0.816338</td>\n",
       "      <td>-0.130954</td>\n",
       "      <td>-0.040339</td>\n",
       "      <td>-0.495287</td>\n",
       "      <td>0.363935</td>\n",
       "      <td>-0.051815</td>\n",
       "      <td>59</td>\n",
       "      <td>3</td>\n",
       "    </tr>\n",
       "  </tbody>\n",
       "</table>\n",
       "<p>5 rows × 102 columns</p>\n",
       "</div>"
      ],
      "text/plain": [
       "          0         1         2         3         4         5         6  \\\n",
       "0  0.055041  0.342952 -0.047198 -0.162306 -0.171862 -0.497574  0.794384   \n",
       "1 -0.532543  0.081871 -0.190665 -0.031546 -0.106032 -0.139156 -0.077580   \n",
       "2 -0.452197  0.198134 -0.351166 -0.248881 -0.200318 -0.321283  0.637267   \n",
       "3 -0.243941  0.106598  0.196419  0.041939  0.086289 -0.560076 -0.105092   \n",
       "4  0.347264  0.460464 -0.058768  0.202997 -0.439789 -0.309569 -0.225985   \n",
       "\n",
       "          7         8         9  ...        92        93        94        95  \\\n",
       "0  0.860793 -0.072595 -0.259542  ... -0.201861  0.146976  0.666662  0.042508   \n",
       "1  0.522287  0.433813 -0.227126  ...  0.139921  0.149679  0.517698  0.210104   \n",
       "2  0.978443 -0.242945 -0.235555  ... -0.074714 -0.222846  0.557966  0.365895   \n",
       "3  0.431394  0.071005  0.128909  ...  0.323483  0.067205  0.531843  0.015695   \n",
       "4  0.544057 -0.172887  0.153737  ...  0.035090  0.082317  0.816338 -0.130954   \n",
       "\n",
       "         96        97        98        99  length_tweet  label  \n",
       "0  0.556936 -0.533800  0.030416  0.288233            52      5  \n",
       "1  0.179381 -0.227100 -0.122636 -0.148326            24      3  \n",
       "2  0.025867 -0.279018  0.489970  0.562526            60      5  \n",
       "3  0.116626 -0.605519  0.231986 -0.398223            81      2  \n",
       "4 -0.040339 -0.495287  0.363935 -0.051815            59      3  \n",
       "\n",
       "[5 rows x 102 columns]"
      ]
     },
     "execution_count": 18,
     "metadata": {},
     "output_type": "execute_result"
    }
   ],
   "source": [
    "print('number of uniqe words',len(vector[1]))\n",
    "w2v_train=pd.DataFrame(vector)\n",
    "w2v_train['length_tweet']=df['length_tweet']\n",
    "w2v_train['label']=df['label']\n",
    "w2v_train.head()"
   ]
  },
  {
   "cell_type": "markdown",
   "metadata": {},
   "source": [
    "# Resample"
   ]
  },
  {
   "cell_type": "markdown",
   "metadata": {},
   "source": [
    "## Upsampling BOW"
   ]
  },
  {
   "cell_type": "code",
   "execution_count": 19,
   "metadata": {},
   "outputs": [
    {
     "data": {
      "text/plain": [
       "0    16846\n",
       "1     7801\n",
       "2     6103\n",
       "3     4884\n",
       "4     2450\n",
       "5     2431\n",
       "6     2112\n",
       "Name: label, dtype: int64"
      ]
     },
     "execution_count": 19,
     "metadata": {},
     "output_type": "execute_result"
    }
   ],
   "source": [
    "bow_train.label.value_counts()"
   ]
  },
  {
   "cell_type": "code",
   "execution_count": 20,
   "metadata": {},
   "outputs": [
    {
     "name": "stdout",
     "output_type": "stream",
     "text": [
      "shape (117922, 1002)\n"
     ]
    },
    {
     "data": {
      "text/plain": [
       "<AxesSubplot:xlabel='label', ylabel='count'>"
      ]
     },
     "execution_count": 20,
     "metadata": {},
     "output_type": "execute_result"
    },
    {
     "data": {
      "image/png": "[encoded data removed]",
      "text/plain": [
       "<Figure size 432x288 with 1 Axes>"
      ]
     },
     "metadata": {
      "needs_background": "light"
     },
     "output_type": "display_data"
    }
   ],
   "source": [
    "major_class_0,major_class_1, major_class_2, major_class_3, major_class_4, major_class_5, major_class_6 =bow_train.label.value_counts()\n",
    "df_major0=bow_train[bow_train['label']==0]\n",
    "df_major1=bow_train[bow_train['label']==1]\n",
    "df_major2=bow_train[bow_train['label']==2]\n",
    "df_major3=bow_train[bow_train['label']==3]\n",
    "df_major4=bow_train[bow_train['label']==4]\n",
    "df_major5=bow_train[bow_train['label']==5]\n",
    "df_major6=bow_train[bow_train['label']==6]\n",
    "\n",
    "df_minor1_upsampled = resample(df_major1, \n",
    "                                 replace=True,     # sample with replacement\n",
    "                                 n_samples=major_class_0)\n",
    "df_minor2_upsampled = resample(df_major2, \n",
    "                                 replace=True,     # sample with replacement\n",
    "                                 n_samples=major_class_0)\n",
    "df_minor3_upsampled = resample(df_major3, \n",
    "                                 replace=True,     # sample with replacement\n",
    "                                 n_samples=major_class_0)\n",
    "df_minor4_upsampled = resample(df_major4, \n",
    "                                 replace=True,     # sample with replacement\n",
    "                                 n_samples=major_class_0)\n",
    "df_minor5_upsampled = resample(df_major5, \n",
    "                                 replace=True,     # sample with replacement\n",
    "                                 n_samples=major_class_0)\n",
    "df_minor6_upsampled = resample(df_major6, \n",
    "                                 replace=True,     # sample with replacement\n",
    "                                 n_samples=major_class_0)\n",
    "df_bow_upsampled = pd.concat([df_major0, df_minor1_upsampled,df_minor2_upsampled, df_minor3_upsampled, df_minor4_upsampled, df_minor5_upsampled, df_minor6_upsampled])\n",
    "print('shape',df_bow_upsampled.shape)\n",
    "sns.countplot(df_bow_upsampled.label)"
   ]
  },
  {
   "cell_type": "markdown",
   "metadata": {},
   "source": [
    "## Upsampling TF-IDF"
   ]
  },
  {
   "cell_type": "code",
   "execution_count": 21,
   "metadata": {},
   "outputs": [
    {
     "name": "stdout",
     "output_type": "stream",
     "text": [
      "shape (117922, 1002)\n"
     ]
    },
    {
     "data": {
      "text/plain": [
       "<AxesSubplot:xlabel='label', ylabel='count'>"
      ]
     },
     "execution_count": 21,
     "metadata": {},
     "output_type": "execute_result"
    },
    {
     "data": {
      "image/png": "[encoded data removed]",
      "text/plain": [
       "<Figure size 432x288 with 1 Axes>"
      ]
     },
     "metadata": {
      "needs_background": "light"
     },
     "output_type": "display_data"
    }
   ],
   "source": [
    "major_class_0,major_class_1, major_class_2, major_class_3, major_class_4, major_class_5, major_class_6=tfidf_train.label.value_counts()\n",
    "df_major0=tfidf_train[tfidf_train['label']==0]\n",
    "df_major1=tfidf_train[tfidf_train['label']==1]\n",
    "df_major2=tfidf_train[tfidf_train['label']==2]\n",
    "df_major3=tfidf_train[tfidf_train['label']==3]\n",
    "df_major4=tfidf_train[tfidf_train['label']==4]\n",
    "df_major5=tfidf_train[tfidf_train['label']==5]\n",
    "df_major6=tfidf_train[tfidf_train['label']==6]\n",
    "\n",
    "df_minor1_upsampled = resample(df_major1, \n",
    "                                 replace=True,     # sample with replacement\n",
    "                                 n_samples=major_class_0)\n",
    "df_minor2_upsampled = resample(df_major2, \n",
    "                                 replace=True,     # sample with replacement\n",
    "                                 n_samples=major_class_0)\n",
    "df_minor3_upsampled = resample(df_major3, \n",
    "                                 replace=True,     # sample with replacement\n",
    "                                 n_samples=major_class_0)\n",
    "df_minor4_upsampled = resample(df_major4, \n",
    "                                 replace=True,     # sample with replacement\n",
    "                                 n_samples=major_class_0)\n",
    "df_minor5_upsampled = resample(df_major5, \n",
    "                                 replace=True,     # sample with replacement\n",
    "                                 n_samples=major_class_0)\n",
    "df_minor6_upsampled = resample(df_major6, \n",
    "                                 replace=True,     # sample with replacement\n",
    "                                 n_samples=major_class_0)\n",
    "df_tfidf_upsampled  = pd.concat([df_major0, df_minor1_upsampled,df_minor2_upsampled, df_minor3_upsampled, df_minor4_upsampled, df_minor5_upsampled, df_minor6_upsampled])\n",
    "print('shape',df_tfidf_upsampled.shape)\n",
    "sns.countplot(df_tfidf_upsampled.label)"
   ]
  },
  {
   "cell_type": "markdown",
   "metadata": {},
   "source": [
    "# Split Dataset"
   ]
  },
  {
   "cell_type": "code",
   "execution_count": 22,
   "metadata": {},
   "outputs": [],
   "source": [
    "x=df_bow_upsampled.iloc[:,0:-1]\n",
    "y=df_bow_upsampled['label']\n",
    "x_train_bow,x_test_bow,y_train_bow,y_test_bow=train_test_split(x,y,test_size=0.2)"
   ]
  },
  {
   "cell_type": "code",
   "execution_count": 23,
   "metadata": {},
   "outputs": [],
   "source": [
    "x=df_tfidf_upsampled.iloc[:,0:-1]\n",
    "y=df_tfidf_upsampled['label']\n",
    "x_train_tfidf,x_test_tfidf,y_train_tfidf,y_test_tfidf=train_test_split(x,y,test_size=0.2)"
   ]
  },
  {
   "cell_type": "markdown",
   "metadata": {},
   "source": [
    "## Metrics of Performance"
   ]
  },
  {
   "cell_type": "code",
   "execution_count": 24,
   "metadata": {},
   "outputs": [],
   "source": [
    "def f1_score_(y_proba, y_pred):\n",
    "  y_true = y_proba[:,1] >= 0.3\n",
    "  y_true = y_true.astype(np.int) \n",
    "  f1 = f1_score(y_true, y_pred, average='micro') #  average setting, one of [None, 'micro', 'macro', 'weighted']\n",
    "  return f1"
   ]
  },
  {
   "cell_type": "code",
   "execution_count": 25,
   "metadata": {},
   "outputs": [],
   "source": [
    "def recall(y_true,y_pred):\n",
    "  #y_true = y_true[:,1] >= 0.3\n",
    "  y_true = y_true.astype(np.int) \n",
    "  recall = recall_score(y_true, y_pred, average='macro') #  average setting, one of [None, 'micro', 'macro', 'weighted']\n",
    "  return recall"
   ]
  },
  {
   "cell_type": "markdown",
   "metadata": {},
   "source": [
    "# Training"
   ]
  },
  {
   "cell_type": "code",
   "execution_count": null,
   "metadata": {},
   "outputs": [
    {
     "name": "stderr",
     "output_type": "stream",
     "text": [
      "  0%|          | 0/4 [01:40<?, ?it/s]"
     ]
    },
    {
     "name": "stdout",
     "output_type": "stream",
     "text": [
      "Epoch: 0 for k= 3 Accuracy Score 0.7873224507101971\n"
     ]
    },
    {
     "name": "stderr",
     "output_type": "stream",
     "text": [
      "\n"
     ]
    },
    {
     "ename": "IndexError",
     "evalue": "too many indices for array: array is 1-dimensional, but 2 were indexed",
     "output_type": "error",
     "traceback": [
      "\u001b[1;31m---------------------------------------------------------------------------\u001b[0m",
      "\u001b[1;31mIndexError\u001b[0m                                Traceback (most recent call last)",
      "\u001b[1;32m~\\AppData\\Local\\Temp/ipykernel_19636/131397843.py\u001b[0m in \u001b[0;36m<module>\u001b[1;34m\u001b[0m\n\u001b[0;32m     17\u001b[0m     \u001b[1;31m# f1_scor=f1_score_(y_proba,y_test_bow)\u001b[0m\u001b[1;33m\u001b[0m\u001b[1;33m\u001b[0m\u001b[0m\n\u001b[0;32m     18\u001b[0m     \u001b[1;31m# print('for k=',i,'f1 score ',f1_scor)\u001b[0m\u001b[1;33m\u001b[0m\u001b[1;33m\u001b[0m\u001b[0m\n\u001b[1;32m---> 19\u001b[1;33m     \u001b[0mrecall\u001b[0m \u001b[1;33m=\u001b[0m \u001b[0mrecall\u001b[0m\u001b[1;33m(\u001b[0m\u001b[0my_pred\u001b[0m\u001b[1;33m,\u001b[0m\u001b[0my_test_bow\u001b[0m\u001b[1;33m)\u001b[0m\u001b[1;33m\u001b[0m\u001b[1;33m\u001b[0m\u001b[0m\n\u001b[0m\u001b[0;32m     20\u001b[0m     \u001b[0mprint\u001b[0m\u001b[1;33m(\u001b[0m\u001b[1;34m'Epoch:'\u001b[0m\u001b[1;33m,\u001b[0m\u001b[0mepoch\u001b[0m\u001b[1;33m,\u001b[0m\u001b[1;34m'for k='\u001b[0m\u001b[1;33m,\u001b[0m\u001b[0mi\u001b[0m\u001b[1;33m,\u001b[0m\u001b[1;34m'Accuracy Score'\u001b[0m\u001b[1;33m,\u001b[0m\u001b[0mrecall\u001b[0m\u001b[1;33m)\u001b[0m\u001b[1;33m\u001b[0m\u001b[1;33m\u001b[0m\u001b[0m\n\u001b[0;32m     21\u001b[0m   \u001b[1;31m#return train_loss, train_acc\u001b[0m\u001b[1;33m\u001b[0m\u001b[1;33m\u001b[0m\u001b[0m\n",
      "\u001b[1;32m~\\AppData\\Local\\Temp/ipykernel_19636/702083065.py\u001b[0m in \u001b[0;36mrecall\u001b[1;34m(y_proba, y_pred)\u001b[0m\n\u001b[0;32m      1\u001b[0m \u001b[1;32mdef\u001b[0m \u001b[0mrecall\u001b[0m\u001b[1;33m(\u001b[0m\u001b[0my_proba\u001b[0m\u001b[1;33m,\u001b[0m\u001b[0my_pred\u001b[0m\u001b[1;33m)\u001b[0m\u001b[1;33m:\u001b[0m\u001b[1;33m\u001b[0m\u001b[1;33m\u001b[0m\u001b[0m\n\u001b[1;32m----> 2\u001b[1;33m   \u001b[0my_true\u001b[0m \u001b[1;33m=\u001b[0m \u001b[0my_proba\u001b[0m\u001b[1;33m[\u001b[0m\u001b[1;33m:\u001b[0m\u001b[1;33m,\u001b[0m\u001b[1;36m1\u001b[0m\u001b[1;33m]\u001b[0m \u001b[1;33m>=\u001b[0m \u001b[1;36m0.3\u001b[0m\u001b[1;33m\u001b[0m\u001b[1;33m\u001b[0m\u001b[0m\n\u001b[0m\u001b[0;32m      3\u001b[0m   \u001b[0my_true\u001b[0m \u001b[1;33m=\u001b[0m \u001b[0my_true\u001b[0m\u001b[1;33m.\u001b[0m\u001b[0mastype\u001b[0m\u001b[1;33m(\u001b[0m\u001b[0mnp\u001b[0m\u001b[1;33m.\u001b[0m\u001b[0mint\u001b[0m\u001b[1;33m)\u001b[0m\u001b[1;33m\u001b[0m\u001b[1;33m\u001b[0m\u001b[0m\n\u001b[0;32m      4\u001b[0m   \u001b[0mrecall\u001b[0m \u001b[1;33m=\u001b[0m \u001b[0mrecall_score\u001b[0m\u001b[1;33m(\u001b[0m\u001b[0my_true\u001b[0m\u001b[1;33m,\u001b[0m \u001b[0my_pred\u001b[0m\u001b[1;33m,\u001b[0m \u001b[0maverage\u001b[0m\u001b[1;33m=\u001b[0m\u001b[1;34m'macro'\u001b[0m\u001b[1;33m)\u001b[0m \u001b[1;31m#  average setting, one of [None, 'micro', 'macro', 'weighted']\u001b[0m\u001b[1;33m\u001b[0m\u001b[1;33m\u001b[0m\u001b[0m\n\u001b[0;32m      5\u001b[0m   \u001b[1;32mreturn\u001b[0m \u001b[0mrecall\u001b[0m\u001b[1;33m\u001b[0m\u001b[1;33m\u001b[0m\u001b[0m\n",
      "\u001b[1;31mIndexError\u001b[0m: too many indices for array: array is 1-dimensional, but 2 were indexed"
     ]
    }
   ],
   "source": [
    "#use Bow\n",
    "k=[3,5,7,11]\n",
    "accuracy=[]\n",
    "\n",
    "for i in tqdm(k):\n",
    "  model=KNeighborsClassifier(n_neighbors=i)\n",
    "  model.fit(x_train_bow,y_train_bow)\n",
    "  y_pred=model.predict(x_test_bow)\n",
    "  acc=accuracy_score(y_pred,y_test_bow)\n",
    "  print('for k=',i,'Accuracy Score',acc)\n",
    "  accuracy.append(acc)\n",
    "  y_proba=model.predict_proba(x_test_bow)\n",
    "  f1_scor=f1_score_(y_proba,y_test_bow)\n",
    "  print('for k=',i,'f1 score ',f1_scor)\n",
    "  recall = recall(y_pred,y_test_bow)\n",
    "  print('for k=',i,'Accuracy Score',recall)\n"
   ]
  },
  {
   "cell_type": "code",
   "execution_count": null,
   "metadata": {},
   "outputs": [],
   "source": [
    "def train(model, optimizer, X_train, train_y, max_epoch):\n",
    "\n",
    "  train_loss = []\n",
    "  train_acc = []\n",
    "  y_target =[]\n",
    "\n",
    "  # Divide the learning rate by 2 at each epoch, as suggested in paper\n",
    "  scheduler = optim.lr_scheduler.StepLR(optimizer, 1, gamma=0.5, last_epoch=-1)     # Decays the learning rate of each parameter group by gamma every step_size epochs.                                                                            \n",
    "  epoch = 0                                                                         # Epochs done so far\n",
    "  stop = False   \n",
    "  correct=0\n",
    "  total=0\n",
    "\n",
    "  loss_func =  nn.MSELoss()\n",
    "\n",
    "\n",
    "  while epoch < max_epoch and not stop:                   \n",
    "    running_loss = 0.0\n",
    "    running_acc = 0.0\n",
    "\n",
    "    optimizer.zero_grad()                                                          # Sets the gradients of all optimized torch.Tensors to zero\n",
    "\n",
    "    yhat = model(X_train.float())                     # input x and predict based on \n",
    "    yhat = yhat.squeeze()\n",
    "    loss = loss_func(yhat.to(torch.float32), train_y.to(torch.float32))\n",
    "    loss.backward()                           # backward pass\n",
    "    optimizer.step()                          # gradient descent; Performs a single optimization step (parameter update)                                                                               \n",
    "      \n",
    "    #Print the statistic\n",
    "    running_loss += loss                                                \n",
    "    #running_acc += loss\n",
    "    epoch_loss = running_loss\n",
    "    epoch_acc = running_acc\n",
    "    print('Epoch {:d} -- Loss: {:.4f} '.format(epoch+1,epoch_loss))\n",
    "    #print('Epoch {:d} -- Loss: {:.4f} Acc: {:.4f}'.format(epoch+1,epoch_loss, epoch_acc))\n",
    "    epoch += 1\n",
    "    scheduler.step()                                                                 # This change the learning rate at each epoch, otherwise the LR would stays at the initial value                                             \n",
    "    train_loss.append(loss)\n",
    "    #train_acc= np.append(train_acc,epoch_acc)\n",
    "    #y_target.append(target_inds)\n",
    "  return train_loss, train_acc "
   ]
  },
  {
   "cell_type": "code",
   "execution_count": null,
   "metadata": {},
   "outputs": [],
   "source": [
    "#use tfidf\n",
    "k=[3,5,11]\n",
    "accuracy_tfidf=[]\n",
    "for i in k:\n",
    "  model=KNeighborsClassifier(n_neighbors=i)\n",
    "  model.fit(x_train_tfidf,y_train_tfidf)\n",
    "  y_pred=model.predict(x_test_tfidf)\n",
    "  acc=accuracy_score(y_pred,y_test_tfidf)\n",
    "  print('for k=',i,'Accuracy Score',acc)\n",
    "  accuracy_tfidf.append(acc)\n",
    "  y_proba=model.predict_proba(x_test_tfidf)\n",
    "  f1_scor=f1_score_(y_proba,y_test_tfidf)\n",
    "  print('for k=',i,'f1 score ',f1_scor)\n",
    "  \n",
    "  print('for k=',i,'Recall',recall)"
   ]
  }
 ],
 "metadata": {
  "interpreter": {
   "hash": "0eb5d0a65b500759bcde1c4c1ad0551eaece71d5bef76353acf57400c52edb49"
  },
  "kernelspec": {
   "display_name": "Python 3.9.7 ('base')",
   "language": "python",
   "name": "python3"
  },
  "language_info": {
   "codemirror_mode": {
    "name": "ipython",
    "version": 3
   },
   "file_extension": ".py",
   "mimetype": "text/x-python",
   "name": "python",
   "nbconvert_exporter": "python",
   "pygments_lexer": "ipython3",
   "version": "3.9.7"
  }
 },
 "nbformat": 4,
 "nbformat_minor": 2
}
