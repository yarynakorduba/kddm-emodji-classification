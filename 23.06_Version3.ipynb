{
 "cells": [
  {
   "cell_type": "code",
   "execution_count": 1,
   "metadata": {},
   "outputs": [
    {
     "name": "stdout",
     "output_type": "stream",
     "text": [
      "c:\\Users\\patri\\anaconda3\\python.exe\n"
     ]
    }
   ],
   "source": [
    "import sys\n",
    "print(sys.executable)"
   ]
  },
  {
   "cell_type": "code",
   "execution_count": 2,
   "metadata": {},
   "outputs": [],
   "source": [
    "import warnings\n",
    "warnings.filterwarnings('ignore')\n",
    "import pandas as pd\n",
    "import numpy as np\n",
    "import matplotlib.pyplot as plt\n",
    "import seaborn as sns\n",
    "import nltk\n",
    "from nltk.stem import PorterStemmer,WordNetLemmatizer\n",
    "#from wordclou import WordCloud\n",
    "import re\n",
    "import gensim\n",
    "from sklearn.model_selection import train_test_split\n",
    "from sklearn.feature_extraction.text import CountVectorizer,TfidfVectorizer\n",
    "from sklearn.utils import resample\n",
    "from sklearn.metrics import accuracy_score,f1_score, recall_score, precision_score, confusion_matrix\n",
    "from sklearn.neighbors import KNeighborsClassifier\n",
    "\n",
    "from sklearn.neural_network import MLPClassifier\n",
    "from sklearn.svm import LinearSVC\n",
    "from sklearn.datasets import make_classification\n",
    "\n",
    "import tensorflow as tf\n",
    "from tensorflow import keras\n",
    "from tensorflow.keras import layers\n",
    "\n",
    "from keras.layers.recurrent import LSTM, SimpleRNN, GRU\n",
    "\n",
    "import Text_cleaning\n",
    "from Classification import NNclassification\n",
    "from sklearn.metrics import classification_report\n",
    "\n",
    "from sklearn.linear_model import SGDClassifier, SGDRegressor\n",
    "from sklearn.ensemble import RandomForestClassifier, GradientBoostingClassifier"
   ]
  },
  {
   "cell_type": "code",
   "execution_count": 3,
   "metadata": {},
   "outputs": [],
   "source": [
    "import numpy as np\n",
    "import pandas as pd\n",
    "import keras\n",
    "import keras.utils\n",
    "from keras.utils.np_utils import to_categorical\n",
    "import matplotlib.pyplot as plt\n",
    "from nltk.corpus import stopwords\n",
    "from sklearn.model_selection import train_test_split\n",
    "from sklearn.feature_extraction.text import CountVectorizer\n",
    "import re\n",
    "import string\n",
    "from nltk.tokenize import word_tokenize\n",
    "from keras.preprocessing.text import Tokenizer\n",
    "from keras.preprocessing.sequence import pad_sequences\n",
    "import tensorflow as tf\n",
    "np.random.seed(0)\n",
    "import torch\n",
    "import torch.nn as nn\n",
    "from torch import optim\n",
    "from random import shuffle"
   ]
  },
  {
   "cell_type": "markdown",
   "metadata": {},
   "source": [
    "# Load the Dataset"
   ]
  },
  {
   "cell_type": "code",
   "execution_count": 4,
   "metadata": {},
   "outputs": [
    {
     "data": {
      "text/html": [
       "<div>\n",
       "<style scoped>\n",
       "    .dataframe tbody tr th:only-of-type {\n",
       "        vertical-align: middle;\n",
       "    }\n",
       "\n",
       "    .dataframe tbody tr th {\n",
       "        vertical-align: top;\n",
       "    }\n",
       "\n",
       "    .dataframe thead th {\n",
       "        text-align: right;\n",
       "    }\n",
       "</style>\n",
       "<table border=\"1\" class=\"dataframe\">\n",
       "  <thead>\n",
       "    <tr style=\"text-align: right;\">\n",
       "      <th></th>\n",
       "      <th>tweet</th>\n",
       "      <th>emoji_class</th>\n",
       "      <th>emoji</th>\n",
       "      <th>predicted_class</th>\n",
       "    </tr>\n",
       "  </thead>\n",
       "  <tbody>\n",
       "    <tr>\n",
       "      <th>0</th>\n",
       "      <td>Brought to you courtesy of the red white and b...</td>\n",
       "      <td>5</td>\n",
       "      <td>🇺🇸</td>\n",
       "      <td>None</td>\n",
       "    </tr>\n",
       "    <tr>\n",
       "      <th>1</th>\n",
       "      <td>@user #taotuesday @ TAO Downtown\\n</td>\n",
       "      <td>3</td>\n",
       "      <td>🔥</td>\n",
       "      <td>None</td>\n",
       "    </tr>\n",
       "    <tr>\n",
       "      <th>2</th>\n",
       "      <td>Ready to celebrate America with @user Happy #i...</td>\n",
       "      <td>5</td>\n",
       "      <td>🇺🇸</td>\n",
       "      <td>None</td>\n",
       "    </tr>\n",
       "    <tr>\n",
       "      <th>3</th>\n",
       "      <td>10min project w old footage #houstonphotograph...</td>\n",
       "      <td>2</td>\n",
       "      <td>📸</td>\n",
       "      <td>None</td>\n",
       "    </tr>\n",
       "  </tbody>\n",
       "</table>\n",
       "</div>"
      ],
      "text/plain": [
       "                                               tweet  emoji_class emoji  \\\n",
       "0  Brought to you courtesy of the red white and b...            5    🇺🇸   \n",
       "1                 @user #taotuesday @ TAO Downtown\\n            3     🔥   \n",
       "2  Ready to celebrate America with @user Happy #i...            5    🇺🇸   \n",
       "3  10min project w old footage #houstonphotograph...            2     📸   \n",
       "\n",
       "  predicted_class  \n",
       "0            None  \n",
       "1            None  \n",
       "2            None  \n",
       "3            None  "
      ]
     },
     "execution_count": 4,
     "metadata": {},
     "output_type": "execute_result"
    }
   ],
   "source": [
    "df = pd.read_pickle(\"C:/Users/patri/Desktop/Informatik/Knowledge Discovery and Data Mining 1/emoji/emoji_train.pkl\")      # Shape: (42627, 4)\n",
    "test = pd.read_pickle(\"C:/Users/patri/Desktop/Informatik/Knowledge Discovery and Data Mining 1/emoji/emoji_test.pkl\")        # (10657, 4)\n",
    "\n",
    "df.head(4)"
   ]
  },
  {
   "cell_type": "code",
   "execution_count": 5,
   "metadata": {},
   "outputs": [
    {
     "data": {
      "text/html": [
       "<div>\n",
       "<style scoped>\n",
       "    .dataframe tbody tr th:only-of-type {\n",
       "        vertical-align: middle;\n",
       "    }\n",
       "\n",
       "    .dataframe tbody tr th {\n",
       "        vertical-align: top;\n",
       "    }\n",
       "\n",
       "    .dataframe thead th {\n",
       "        text-align: right;\n",
       "    }\n",
       "</style>\n",
       "<table border=\"1\" class=\"dataframe\">\n",
       "  <thead>\n",
       "    <tr style=\"text-align: right;\">\n",
       "      <th></th>\n",
       "      <th>tweet</th>\n",
       "      <th>label</th>\n",
       "      <th>emoji</th>\n",
       "      <th>predicted_class</th>\n",
       "    </tr>\n",
       "  </thead>\n",
       "  <tbody>\n",
       "    <tr>\n",
       "      <th>0</th>\n",
       "      <td>Brought to you courtesy of the red white and b...</td>\n",
       "      <td>5</td>\n",
       "      <td>🇺🇸</td>\n",
       "      <td>None</td>\n",
       "    </tr>\n",
       "    <tr>\n",
       "      <th>1</th>\n",
       "      <td>@user #taotuesday @ TAO Downtown\\n</td>\n",
       "      <td>3</td>\n",
       "      <td>🔥</td>\n",
       "      <td>None</td>\n",
       "    </tr>\n",
       "    <tr>\n",
       "      <th>2</th>\n",
       "      <td>Ready to celebrate America with @user Happy #i...</td>\n",
       "      <td>5</td>\n",
       "      <td>🇺🇸</td>\n",
       "      <td>None</td>\n",
       "    </tr>\n",
       "    <tr>\n",
       "      <th>3</th>\n",
       "      <td>10min project w old footage #houstonphotograph...</td>\n",
       "      <td>2</td>\n",
       "      <td>📸</td>\n",
       "      <td>None</td>\n",
       "    </tr>\n",
       "  </tbody>\n",
       "</table>\n",
       "</div>"
      ],
      "text/plain": [
       "                                               tweet  label emoji  \\\n",
       "0  Brought to you courtesy of the red white and b...      5    🇺🇸   \n",
       "1                 @user #taotuesday @ TAO Downtown\\n      3     🔥   \n",
       "2  Ready to celebrate America with @user Happy #i...      5    🇺🇸   \n",
       "3  10min project w old footage #houstonphotograph...      2     📸   \n",
       "\n",
       "  predicted_class  \n",
       "0            None  \n",
       "1            None  \n",
       "2            None  \n",
       "3            None  "
      ]
     },
     "execution_count": 5,
     "metadata": {},
     "output_type": "execute_result"
    }
   ],
   "source": [
    "df = df.rename(columns={'emoji_class': 'label'})\n",
    "df.head(4)"
   ]
  },
  {
   "cell_type": "code",
   "execution_count": 6,
   "metadata": {},
   "outputs": [
    {
     "name": "stdout",
     "output_type": "stream",
     "text": [
      "<class 'pandas.core.frame.DataFrame'>\n",
      "RangeIndex: 42627 entries, 0 to 42626\n",
      "Data columns (total 4 columns):\n",
      " #   Column           Non-Null Count  Dtype \n",
      "---  ------           --------------  ----- \n",
      " 0   tweet            42627 non-null  object\n",
      " 1   label            42627 non-null  int64 \n",
      " 2   emoji            42627 non-null  object\n",
      " 3   predicted_class  0 non-null      object\n",
      "dtypes: int64(1), object(3)\n",
      "memory usage: 1.3+ MB\n",
      "None\n",
      "shape of train dataset (42627, 4)\n",
      "0    16846\n",
      "1     7801\n",
      "2     6103\n",
      "3     4884\n",
      "4     2450\n",
      "5     2431\n",
      "6     2112\n",
      "Name: label, dtype: int64\n"
     ]
    },
    {
     "data": {
      "image/png": "[encoded data removed]",
      "text/plain": [
       "<Figure size 432x288 with 1 Axes>"
      ]
     },
     "metadata": {},
     "output_type": "display_data"
    }
   ],
   "source": [
    "print(df.info())\n",
    "print('shape of train dataset',df.shape)\n",
    "print(df.label.value_counts())\n",
    "\n",
    "sns.countplot(df.label,)\n",
    "plt.xlabel('class label')\n",
    "plt.ylabel('number of tweets')\n",
    "plt.show()"
   ]
  },
  {
   "cell_type": "code",
   "execution_count": 7,
   "metadata": {},
   "outputs": [],
   "source": [
    "# plt.hist(df[df['label']==1].tweet.str.len(),bins=20,label='class 1')\n",
    "# plt.legend()\n",
    "# plt.xlabel('length of tweets')\n",
    "# plt.ylabel('number of tweets')\n",
    "# plt.show()\n",
    "# plt.hist(df[df['label']==0].tweet.str.len(),color='yellow',bins=20,label='class 0')\n",
    "# plt.legend()\n",
    "# plt.xlabel('length of tweets')\n",
    "# plt.ylabel('number of tweets')\n",
    "# plt.show()"
   ]
  },
  {
   "cell_type": "markdown",
   "metadata": {},
   "source": [
    "## Preprocessing Tweet Text\n",
    "   1. Removing Twitter Handles (@user)\n",
    "   2. Removing urls from text\n",
    "   3. Removing Punctuations, Numbers, and Special Characters\n",
    "   4. Convert the word to lowercase\n",
    "   5. Remove Stopwords\n",
    "   6. Stemming the word\n",
    "   7. Lemmatization\n",
    "After which we collect the words used to describe positive and negative reviews"
   ]
  },
  {
   "cell_type": "code",
   "execution_count": 8,
   "metadata": {},
   "outputs": [
    {
     "name": "stdout",
     "output_type": "stream",
     "text": [
      "53284\n"
     ]
    }
   ],
   "source": [
    "text=df['tweet'].values.tolist()\n",
    "text_test=test['tweet'].values.tolist()\n",
    "text+=text_test\n",
    "print(len(text))"
   ]
  },
  {
   "cell_type": "code",
   "execution_count": 9,
   "metadata": {},
   "outputs": [],
   "source": [
    "import nltk\n",
    "stopword=nltk.corpus.stopwords.words('english')\n",
    "stopword.remove('not')\n",
    "for index,text_ in enumerate(text):\n",
    "    text_=re.sub(r'@[\\w]*','',text_) #Removing Twitter Handles (@user)\n",
    "    text_=re.sub(r'http/S+','',text_) #Removing urls from text \n",
    "    text_=re.sub(r'[^A-Za-z#]',' ',text_) #Removing Punctuations, Numbers, and Special Characters\n",
    "    text_=\" \".join(i.lower() for i in text_.split() if i.lower() not in stopword) #Removing stopword\n",
    "    text[index]=text_"
   ]
  },
  {
   "cell_type": "code",
   "execution_count": 10,
   "metadata": {},
   "outputs": [],
   "source": [
    "# #Stemming the word\n",
    "# pt=PorterStemmer()\n",
    "# wordnet=WordNetLemmatizer()\n",
    "# for index,text_ in enumerate(text):\n",
    "#     text_=\" \".join(pt.stem(i) for i in text_.split())\n",
    "#     text_=\" \".join(wordnet.lemmatize(i) for i in text_.split())  \n",
    "#     text[index]=text_"
   ]
  },
  {
   "cell_type": "code",
   "execution_count": 11,
   "metadata": {},
   "outputs": [
    {
     "data": {
      "text/html": [
       "<div>\n",
       "<style scoped>\n",
       "    .dataframe tbody tr th:only-of-type {\n",
       "        vertical-align: middle;\n",
       "    }\n",
       "\n",
       "    .dataframe tbody tr th {\n",
       "        vertical-align: top;\n",
       "    }\n",
       "\n",
       "    .dataframe thead th {\n",
       "        text-align: right;\n",
       "    }\n",
       "</style>\n",
       "<table border=\"1\" class=\"dataframe\">\n",
       "  <thead>\n",
       "    <tr style=\"text-align: right;\">\n",
       "      <th></th>\n",
       "      <th>tweet</th>\n",
       "      <th>label</th>\n",
       "      <th>emoji</th>\n",
       "      <th>predicted_class</th>\n",
       "      <th>preprocess_tweet</th>\n",
       "      <th>length_tweet</th>\n",
       "    </tr>\n",
       "  </thead>\n",
       "  <tbody>\n",
       "    <tr>\n",
       "      <th>0</th>\n",
       "      <td>Brought to you courtesy of the red white and b...</td>\n",
       "      <td>5</td>\n",
       "      <td>🇺🇸</td>\n",
       "      <td>None</td>\n",
       "      <td>brought courtesy red white blue welcome home s...</td>\n",
       "      <td>52</td>\n",
       "    </tr>\n",
       "    <tr>\n",
       "      <th>1</th>\n",
       "      <td>@user #taotuesday @ TAO Downtown\\n</td>\n",
       "      <td>3</td>\n",
       "      <td>🔥</td>\n",
       "      <td>None</td>\n",
       "      <td>#taotuesday tao downtown</td>\n",
       "      <td>24</td>\n",
       "    </tr>\n",
       "    <tr>\n",
       "      <th>2</th>\n",
       "      <td>Ready to celebrate America with @user Happy #i...</td>\n",
       "      <td>5</td>\n",
       "      <td>🇺🇸</td>\n",
       "      <td>None</td>\n",
       "      <td>ready celebrate america happy #independenceday...</td>\n",
       "      <td>60</td>\n",
       "    </tr>\n",
       "    <tr>\n",
       "      <th>3</th>\n",
       "      <td>10min project w old footage #houstonphotograph...</td>\n",
       "      <td>2</td>\n",
       "      <td>📸</td>\n",
       "      <td>None</td>\n",
       "      <td>min project w old footage #houstonphotographer...</td>\n",
       "      <td>81</td>\n",
       "    </tr>\n",
       "    <tr>\n",
       "      <th>4</th>\n",
       "      <td>Usually I don't put song on my insta but this ...</td>\n",
       "      <td>3</td>\n",
       "      <td>🔥</td>\n",
       "      <td>None</td>\n",
       "      <td>usually put song insta shit fire thank #aoifou...</td>\n",
       "      <td>59</td>\n",
       "    </tr>\n",
       "  </tbody>\n",
       "</table>\n",
       "</div>"
      ],
      "text/plain": [
       "                                               tweet  label emoji  \\\n",
       "0  Brought to you courtesy of the red white and b...      5    🇺🇸   \n",
       "1                 @user #taotuesday @ TAO Downtown\\n      3     🔥   \n",
       "2  Ready to celebrate America with @user Happy #i...      5    🇺🇸   \n",
       "3  10min project w old footage #houstonphotograph...      2     📸   \n",
       "4  Usually I don't put song on my insta but this ...      3     🔥   \n",
       "\n",
       "  predicted_class                                   preprocess_tweet  \\\n",
       "0            None  brought courtesy red white blue welcome home s...   \n",
       "1            None                           #taotuesday tao downtown   \n",
       "2            None  ready celebrate america happy #independenceday...   \n",
       "3            None  min project w old footage #houstonphotographer...   \n",
       "4            None  usually put song insta shit fire thank #aoifou...   \n",
       "\n",
       "   length_tweet  \n",
       "0            52  \n",
       "1            24  \n",
       "2            60  \n",
       "3            81  \n",
       "4            59  "
      ]
     },
     "execution_count": 11,
     "metadata": {},
     "output_type": "execute_result"
    }
   ],
   "source": [
    "df['preprocess_tweet']=text[:len(df)]\n",
    "df['length_tweet']=df['preprocess_tweet'].str.len()\n",
    "test['preprocess_tweet']=text[len(df):]\n",
    "df.head()"
   ]
  },
  {
   "cell_type": "markdown",
   "metadata": {},
   "source": [
    "# Featurization"
   ]
  },
  {
   "cell_type": "markdown",
   "metadata": {},
   "source": [
    "## BOW"
   ]
  },
  {
   "cell_type": "code",
   "execution_count": 12,
   "metadata": {},
   "outputs": [],
   "source": [
    "train=df.copy()\n",
    "train.drop(columns=['tweet','label','predicted_class','preprocess_tweet'],inplace=True)"
   ]
  },
  {
   "cell_type": "code",
   "execution_count": 13,
   "metadata": {},
   "outputs": [
    {
     "name": "stdout",
     "output_type": "stream",
     "text": [
      "feature name== ['able', 'absolutely', 'academy', 'action', 'actually', 'adventure', 'adventures', 'af', 'afternoon', 'ago']\n",
      "number of uniqe words 1000\n",
      "shape (42627, 1000)\n"
     ]
    },
    {
     "data": {
      "text/html": [
       "<div>\n",
       "<style scoped>\n",
       "    .dataframe tbody tr th:only-of-type {\n",
       "        vertical-align: middle;\n",
       "    }\n",
       "\n",
       "    .dataframe tbody tr th {\n",
       "        vertical-align: top;\n",
       "    }\n",
       "\n",
       "    .dataframe thead th {\n",
       "        text-align: right;\n",
       "    }\n",
       "</style>\n",
       "<table border=\"1\" class=\"dataframe\">\n",
       "  <thead>\n",
       "    <tr style=\"text-align: right;\">\n",
       "      <th></th>\n",
       "      <th>0</th>\n",
       "      <th>1</th>\n",
       "      <th>2</th>\n",
       "      <th>3</th>\n",
       "      <th>4</th>\n",
       "      <th>5</th>\n",
       "      <th>6</th>\n",
       "      <th>7</th>\n",
       "      <th>8</th>\n",
       "      <th>9</th>\n",
       "      <th>...</th>\n",
       "      <th>992</th>\n",
       "      <th>993</th>\n",
       "      <th>994</th>\n",
       "      <th>995</th>\n",
       "      <th>996</th>\n",
       "      <th>997</th>\n",
       "      <th>998</th>\n",
       "      <th>999</th>\n",
       "      <th>length_tweet</th>\n",
       "      <th>label</th>\n",
       "    </tr>\n",
       "  </thead>\n",
       "  <tbody>\n",
       "    <tr>\n",
       "      <th>0</th>\n",
       "      <td>0</td>\n",
       "      <td>0</td>\n",
       "      <td>0</td>\n",
       "      <td>0</td>\n",
       "      <td>0</td>\n",
       "      <td>0</td>\n",
       "      <td>0</td>\n",
       "      <td>0</td>\n",
       "      <td>0</td>\n",
       "      <td>0</td>\n",
       "      <td>...</td>\n",
       "      <td>0</td>\n",
       "      <td>0</td>\n",
       "      <td>0</td>\n",
       "      <td>0</td>\n",
       "      <td>0</td>\n",
       "      <td>0</td>\n",
       "      <td>0</td>\n",
       "      <td>0</td>\n",
       "      <td>52</td>\n",
       "      <td>5</td>\n",
       "    </tr>\n",
       "    <tr>\n",
       "      <th>1</th>\n",
       "      <td>0</td>\n",
       "      <td>0</td>\n",
       "      <td>0</td>\n",
       "      <td>0</td>\n",
       "      <td>0</td>\n",
       "      <td>0</td>\n",
       "      <td>0</td>\n",
       "      <td>0</td>\n",
       "      <td>0</td>\n",
       "      <td>0</td>\n",
       "      <td>...</td>\n",
       "      <td>0</td>\n",
       "      <td>0</td>\n",
       "      <td>0</td>\n",
       "      <td>0</td>\n",
       "      <td>0</td>\n",
       "      <td>0</td>\n",
       "      <td>0</td>\n",
       "      <td>0</td>\n",
       "      <td>24</td>\n",
       "      <td>3</td>\n",
       "    </tr>\n",
       "    <tr>\n",
       "      <th>2</th>\n",
       "      <td>0</td>\n",
       "      <td>0</td>\n",
       "      <td>0</td>\n",
       "      <td>0</td>\n",
       "      <td>0</td>\n",
       "      <td>0</td>\n",
       "      <td>0</td>\n",
       "      <td>0</td>\n",
       "      <td>0</td>\n",
       "      <td>0</td>\n",
       "      <td>...</td>\n",
       "      <td>0</td>\n",
       "      <td>0</td>\n",
       "      <td>0</td>\n",
       "      <td>0</td>\n",
       "      <td>0</td>\n",
       "      <td>0</td>\n",
       "      <td>0</td>\n",
       "      <td>0</td>\n",
       "      <td>60</td>\n",
       "      <td>5</td>\n",
       "    </tr>\n",
       "    <tr>\n",
       "      <th>3</th>\n",
       "      <td>0</td>\n",
       "      <td>0</td>\n",
       "      <td>0</td>\n",
       "      <td>0</td>\n",
       "      <td>0</td>\n",
       "      <td>0</td>\n",
       "      <td>0</td>\n",
       "      <td>0</td>\n",
       "      <td>0</td>\n",
       "      <td>0</td>\n",
       "      <td>...</td>\n",
       "      <td>0</td>\n",
       "      <td>0</td>\n",
       "      <td>0</td>\n",
       "      <td>0</td>\n",
       "      <td>0</td>\n",
       "      <td>0</td>\n",
       "      <td>0</td>\n",
       "      <td>0</td>\n",
       "      <td>81</td>\n",
       "      <td>2</td>\n",
       "    </tr>\n",
       "    <tr>\n",
       "      <th>4</th>\n",
       "      <td>0</td>\n",
       "      <td>0</td>\n",
       "      <td>0</td>\n",
       "      <td>0</td>\n",
       "      <td>0</td>\n",
       "      <td>0</td>\n",
       "      <td>0</td>\n",
       "      <td>0</td>\n",
       "      <td>0</td>\n",
       "      <td>0</td>\n",
       "      <td>...</td>\n",
       "      <td>0</td>\n",
       "      <td>0</td>\n",
       "      <td>0</td>\n",
       "      <td>0</td>\n",
       "      <td>0</td>\n",
       "      <td>0</td>\n",
       "      <td>0</td>\n",
       "      <td>0</td>\n",
       "      <td>59</td>\n",
       "      <td>3</td>\n",
       "    </tr>\n",
       "  </tbody>\n",
       "</table>\n",
       "<p>5 rows × 1002 columns</p>\n",
       "</div>"
      ],
      "text/plain": [
       "   0  1  2  3  4  5  6  7  8  9  ...  992  993  994  995  996  997  998  999  \\\n",
       "0  0  0  0  0  0  0  0  0  0  0  ...    0    0    0    0    0    0    0    0   \n",
       "1  0  0  0  0  0  0  0  0  0  0  ...    0    0    0    0    0    0    0    0   \n",
       "2  0  0  0  0  0  0  0  0  0  0  ...    0    0    0    0    0    0    0    0   \n",
       "3  0  0  0  0  0  0  0  0  0  0  ...    0    0    0    0    0    0    0    0   \n",
       "4  0  0  0  0  0  0  0  0  0  0  ...    0    0    0    0    0    0    0    0   \n",
       "\n",
       "   length_tweet  label  \n",
       "0            52      5  \n",
       "1            24      3  \n",
       "2            60      5  \n",
       "3            81      2  \n",
       "4            59      3  \n",
       "\n",
       "[5 rows x 1002 columns]"
      ]
     },
     "execution_count": 13,
     "metadata": {},
     "output_type": "execute_result"
    }
   ],
   "source": [
    "bow=CountVectorizer( min_df=2, max_features=1000)\n",
    "bow.fit(df['preprocess_tweet'])\n",
    "bow_df=bow.transform(df['preprocess_tweet']).toarray()\n",
    "print('feature name==',bow.get_feature_names()[:10])\n",
    "print('number of uniqe words',bow_df.shape[1])\n",
    "print('shape',bow_df.shape)\n",
    "bow_train=pd.DataFrame(bow_df)\n",
    "bow_train['length_tweet']=df['length_tweet']\n",
    "bow_train['label']=df['label']\n",
    "bow_train.head()"
   ]
  },
  {
   "cell_type": "markdown",
   "metadata": {},
   "source": [
    "## TF-IDF Features (Bi-Grams)"
   ]
  },
  {
   "cell_type": "code",
   "execution_count": 14,
   "metadata": {},
   "outputs": [
    {
     "name": "stdout",
     "output_type": "stream",
     "text": [
      "number of uniqe words 1000\n",
      "shape (42627, 1000)\n"
     ]
    },
    {
     "data": {
      "text/html": [
       "<div>\n",
       "<style scoped>\n",
       "    .dataframe tbody tr th:only-of-type {\n",
       "        vertical-align: middle;\n",
       "    }\n",
       "\n",
       "    .dataframe tbody tr th {\n",
       "        vertical-align: top;\n",
       "    }\n",
       "\n",
       "    .dataframe thead th {\n",
       "        text-align: right;\n",
       "    }\n",
       "</style>\n",
       "<table border=\"1\" class=\"dataframe\">\n",
       "  <thead>\n",
       "    <tr style=\"text-align: right;\">\n",
       "      <th></th>\n",
       "      <th>0</th>\n",
       "      <th>1</th>\n",
       "      <th>2</th>\n",
       "      <th>3</th>\n",
       "      <th>4</th>\n",
       "      <th>5</th>\n",
       "      <th>6</th>\n",
       "      <th>7</th>\n",
       "      <th>8</th>\n",
       "      <th>9</th>\n",
       "      <th>...</th>\n",
       "      <th>992</th>\n",
       "      <th>993</th>\n",
       "      <th>994</th>\n",
       "      <th>995</th>\n",
       "      <th>996</th>\n",
       "      <th>997</th>\n",
       "      <th>998</th>\n",
       "      <th>999</th>\n",
       "      <th>length_tweet</th>\n",
       "      <th>label</th>\n",
       "    </tr>\n",
       "  </thead>\n",
       "  <tbody>\n",
       "    <tr>\n",
       "      <th>0</th>\n",
       "      <td>0.0</td>\n",
       "      <td>0.0</td>\n",
       "      <td>0.0</td>\n",
       "      <td>0.0</td>\n",
       "      <td>0.0</td>\n",
       "      <td>0.0</td>\n",
       "      <td>0.0</td>\n",
       "      <td>0.0</td>\n",
       "      <td>0.0</td>\n",
       "      <td>0.0</td>\n",
       "      <td>...</td>\n",
       "      <td>0.0</td>\n",
       "      <td>0.0</td>\n",
       "      <td>0.0</td>\n",
       "      <td>0.0</td>\n",
       "      <td>0.0</td>\n",
       "      <td>0.0</td>\n",
       "      <td>0.0</td>\n",
       "      <td>0.0</td>\n",
       "      <td>52</td>\n",
       "      <td>5</td>\n",
       "    </tr>\n",
       "    <tr>\n",
       "      <th>1</th>\n",
       "      <td>0.0</td>\n",
       "      <td>0.0</td>\n",
       "      <td>0.0</td>\n",
       "      <td>0.0</td>\n",
       "      <td>0.0</td>\n",
       "      <td>0.0</td>\n",
       "      <td>0.0</td>\n",
       "      <td>0.0</td>\n",
       "      <td>0.0</td>\n",
       "      <td>0.0</td>\n",
       "      <td>...</td>\n",
       "      <td>0.0</td>\n",
       "      <td>0.0</td>\n",
       "      <td>0.0</td>\n",
       "      <td>0.0</td>\n",
       "      <td>0.0</td>\n",
       "      <td>0.0</td>\n",
       "      <td>0.0</td>\n",
       "      <td>0.0</td>\n",
       "      <td>24</td>\n",
       "      <td>3</td>\n",
       "    </tr>\n",
       "    <tr>\n",
       "      <th>2</th>\n",
       "      <td>0.0</td>\n",
       "      <td>0.0</td>\n",
       "      <td>0.0</td>\n",
       "      <td>0.0</td>\n",
       "      <td>0.0</td>\n",
       "      <td>0.0</td>\n",
       "      <td>0.0</td>\n",
       "      <td>0.0</td>\n",
       "      <td>0.0</td>\n",
       "      <td>0.0</td>\n",
       "      <td>...</td>\n",
       "      <td>0.0</td>\n",
       "      <td>0.0</td>\n",
       "      <td>0.0</td>\n",
       "      <td>0.0</td>\n",
       "      <td>0.0</td>\n",
       "      <td>0.0</td>\n",
       "      <td>0.0</td>\n",
       "      <td>0.0</td>\n",
       "      <td>60</td>\n",
       "      <td>5</td>\n",
       "    </tr>\n",
       "    <tr>\n",
       "      <th>3</th>\n",
       "      <td>0.0</td>\n",
       "      <td>0.0</td>\n",
       "      <td>0.0</td>\n",
       "      <td>0.0</td>\n",
       "      <td>0.0</td>\n",
       "      <td>0.0</td>\n",
       "      <td>0.0</td>\n",
       "      <td>0.0</td>\n",
       "      <td>0.0</td>\n",
       "      <td>0.0</td>\n",
       "      <td>...</td>\n",
       "      <td>0.0</td>\n",
       "      <td>0.0</td>\n",
       "      <td>0.0</td>\n",
       "      <td>0.0</td>\n",
       "      <td>0.0</td>\n",
       "      <td>0.0</td>\n",
       "      <td>0.0</td>\n",
       "      <td>0.0</td>\n",
       "      <td>81</td>\n",
       "      <td>2</td>\n",
       "    </tr>\n",
       "    <tr>\n",
       "      <th>4</th>\n",
       "      <td>0.0</td>\n",
       "      <td>0.0</td>\n",
       "      <td>0.0</td>\n",
       "      <td>0.0</td>\n",
       "      <td>0.0</td>\n",
       "      <td>0.0</td>\n",
       "      <td>0.0</td>\n",
       "      <td>0.0</td>\n",
       "      <td>0.0</td>\n",
       "      <td>0.0</td>\n",
       "      <td>...</td>\n",
       "      <td>0.0</td>\n",
       "      <td>0.0</td>\n",
       "      <td>0.0</td>\n",
       "      <td>0.0</td>\n",
       "      <td>0.0</td>\n",
       "      <td>0.0</td>\n",
       "      <td>0.0</td>\n",
       "      <td>0.0</td>\n",
       "      <td>59</td>\n",
       "      <td>3</td>\n",
       "    </tr>\n",
       "  </tbody>\n",
       "</table>\n",
       "<p>5 rows × 1002 columns</p>\n",
       "</div>"
      ],
      "text/plain": [
       "     0    1    2    3    4    5    6    7    8    9  ...  992  993  994  995  \\\n",
       "0  0.0  0.0  0.0  0.0  0.0  0.0  0.0  0.0  0.0  0.0  ...  0.0  0.0  0.0  0.0   \n",
       "1  0.0  0.0  0.0  0.0  0.0  0.0  0.0  0.0  0.0  0.0  ...  0.0  0.0  0.0  0.0   \n",
       "2  0.0  0.0  0.0  0.0  0.0  0.0  0.0  0.0  0.0  0.0  ...  0.0  0.0  0.0  0.0   \n",
       "3  0.0  0.0  0.0  0.0  0.0  0.0  0.0  0.0  0.0  0.0  ...  0.0  0.0  0.0  0.0   \n",
       "4  0.0  0.0  0.0  0.0  0.0  0.0  0.0  0.0  0.0  0.0  ...  0.0  0.0  0.0  0.0   \n",
       "\n",
       "   996  997  998  999  length_tweet  label  \n",
       "0  0.0  0.0  0.0  0.0            52      5  \n",
       "1  0.0  0.0  0.0  0.0            24      3  \n",
       "2  0.0  0.0  0.0  0.0            60      5  \n",
       "3  0.0  0.0  0.0  0.0            81      2  \n",
       "4  0.0  0.0  0.0  0.0            59      3  \n",
       "\n",
       "[5 rows x 1002 columns]"
      ]
     },
     "execution_count": 14,
     "metadata": {},
     "output_type": "execute_result"
    }
   ],
   "source": [
    "tfidf=TfidfVectorizer(ngram_range=(1, 2),min_df=2,max_features=1000)\n",
    "tfidf.fit(df['preprocess_tweet'])\n",
    "tfidf_df=tfidf.transform(df['preprocess_tweet']).toarray()\n",
    "print('number of uniqe words',bow_df.shape[1])\n",
    "print('shape',tfidf_df.shape)\n",
    "tfidf_train=pd.DataFrame(tfidf_df)\n",
    "tfidf_train['length_tweet']=df['length_tweet']\n",
    "tfidf_train['label']=df['label']\n",
    "tfidf_train.head()"
   ]
  },
  {
   "cell_type": "code",
   "execution_count": 15,
   "metadata": {},
   "outputs": [
    {
     "data": {
      "text/plain": [
       "(5917033, 6125420)"
      ]
     },
     "execution_count": 15,
     "metadata": {},
     "output_type": "execute_result"
    }
   ],
   "source": [
    "tokenize=df['preprocess_tweet'].apply(lambda x: x.split())\n",
    "w2vec_model=gensim.models.Word2Vec(tokenize,min_count = 1, vector_size= 100, window = 5, sg = 1)\n",
    "w2vec_model.train(tokenize,total_examples= len(df['preprocess_tweet']),epochs=20)"
   ]
  },
  {
   "cell_type": "code",
   "execution_count": 16,
   "metadata": {},
   "outputs": [
    {
     "name": "stdout",
     "output_type": "stream",
     "text": [
      "number of words that occured minimum 5 times  57819\n",
      "sample words  ['love', 'california', 'new', 'amp', 'happy', 'day', 'christmas', 'beach', '#', 'night', 'today', 'time', 'los', 'one', 'angeles', 'like', 'san', 'park', 'good', 'get', 'last', 'best', 'thank', 'city', 'back', 'got', 'great', 'family', 'birthday', 'beautiful', 'york', 'little', 'not', 'see', 'life', 'morning', 'tonight', 'home', 'th', 'much', 'vegas', 'fun', 'thanks', 'first', 'favorite', 'go', 'always', 'us', 'merry', 'las']\n"
     ]
    }
   ],
   "source": [
    "#w2v_words = list(w2vec_model.wv.vocab)\n",
    "w2v_words = list(w2vec_model.wv.index_to_key)\n",
    "print(\"number of words that occured minimum 5 times \",len(w2v_words))\n",
    "print(\"sample words \", w2v_words[0:50])"
   ]
  },
  {
   "cell_type": "code",
   "execution_count": 17,
   "metadata": {},
   "outputs": [
    {
     "name": "stderr",
     "output_type": "stream",
     "text": [
      "100%|██████████| 42627/42627 [00:29<00:00, 1466.11it/s]"
     ]
    },
    {
     "name": "stdout",
     "output_type": "stream",
     "text": [
      "42627\n",
      "100\n"
     ]
    },
    {
     "name": "stderr",
     "output_type": "stream",
     "text": [
      "\n"
     ]
    }
   ],
   "source": [
    "vector=[]\n",
    "from tqdm import tqdm\n",
    "for sent in tqdm(tokenize):\n",
    "  sent_vec=np.zeros(100)\n",
    "  count =0\n",
    "  for word in sent: \n",
    "    if word in w2v_words:\n",
    "      vec = w2vec_model.wv[word]\n",
    "      sent_vec += vec \n",
    "      count += 1\n",
    "  if count != 0:\n",
    "    sent_vec /= count #normalize\n",
    "  vector.append(sent_vec)\n",
    "print(len(vector))\n",
    "print(len(vector[0]))    "
   ]
  },
  {
   "cell_type": "code",
   "execution_count": 18,
   "metadata": {},
   "outputs": [
    {
     "data": {
      "text/plain": [
       "array([-16.36927542,   6.55392817,  11.49387126,   5.66987196,\n",
       "       -12.70865816, -13.08883423,  19.12736946,  11.47320775,\n",
       "         1.1628068 , -14.11520332,   7.3683413 ,  -5.32931518,\n",
       "        -5.21749292,   4.11420301,  -3.20428527,  -9.06879903,\n",
       "         1.83370447, -17.2627849 ,   0.83287451, -11.78793339,\n",
       "         0.6110172 ,   2.95915702,   2.81336355,  -5.22389352,\n",
       "        -9.83929941,  -0.86004034,  -0.23687263,  -0.69271606,\n",
       "         5.38712624,   1.22892275,  14.92904921,   5.21151937,\n",
       "        -2.47556715,  -0.88862324,   7.05330562,  12.40849131,\n",
       "       -16.40978537, -20.59939605,  -8.29029684,  -3.0108011 ,\n",
       "        -1.3131752 ,  -2.57706671, -10.92995793,  -7.30298473,\n",
       "        11.32359161, -10.49506658,   2.44339169,  -3.21357244,\n",
       "         8.38497374,   3.172362  ,  13.28256148,  -4.14798349,\n",
       "         8.64024285,   1.8618775 ,  -3.25439776, -18.91680697,\n",
       "        22.43618363, -13.74201936,   5.92767859,  -9.70223299,\n",
       "        -0.80646737,  -4.41843752,   9.0310217 ,   8.11310203,\n",
       "       -13.68915876,   4.62239452,  13.57218277,  11.1997501 ,\n",
       "       -13.63334227,  11.26880307,  16.83776319,   0.49469662,\n",
       "        13.87486698,   8.67464037,  15.74552688,   3.88737137,\n",
       "         8.23699543,  -3.63114658,  -7.21574522,  -5.24668305,\n",
       "        -2.21717721,  -9.09696637,   0.37450336,  10.84898666,\n",
       "        21.0650425 ,  -2.79129877,  -1.73191754,   2.5114392 ,\n",
       "         7.77140033,  12.52575495,  15.72418076,   2.78624158,\n",
       "         7.45081566,  -2.65558233,  -0.95657076, -13.93657345,\n",
       "        -3.1426941 ,  -4.54628154,   8.20039453,   5.26850022])"
      ]
     },
     "execution_count": 18,
     "metadata": {},
     "output_type": "execute_result"
    }
   ],
   "source": [
    "#example\n",
    "l='father dysfunct selfish drag kid dysfunct'\n",
    "count=0\n",
    "vcc=np.zeros(100)\n",
    "for word in l:\n",
    "  if word in w2v_words:\n",
    "    v=w2vec_model.wv[word]\n",
    "    vcc+=v\n",
    "    count+=1\n",
    "vcc"
   ]
  },
  {
   "cell_type": "code",
   "execution_count": 19,
   "metadata": {},
   "outputs": [
    {
     "name": "stdout",
     "output_type": "stream",
     "text": [
      "number of uniqe words 100\n"
     ]
    },
    {
     "data": {
      "text/html": [
       "<div>\n",
       "<style scoped>\n",
       "    .dataframe tbody tr th:only-of-type {\n",
       "        vertical-align: middle;\n",
       "    }\n",
       "\n",
       "    .dataframe tbody tr th {\n",
       "        vertical-align: top;\n",
       "    }\n",
       "\n",
       "    .dataframe thead th {\n",
       "        text-align: right;\n",
       "    }\n",
       "</style>\n",
       "<table border=\"1\" class=\"dataframe\">\n",
       "  <thead>\n",
       "    <tr style=\"text-align: right;\">\n",
       "      <th></th>\n",
       "      <th>0</th>\n",
       "      <th>1</th>\n",
       "      <th>2</th>\n",
       "      <th>3</th>\n",
       "      <th>4</th>\n",
       "      <th>5</th>\n",
       "      <th>6</th>\n",
       "      <th>7</th>\n",
       "      <th>8</th>\n",
       "      <th>9</th>\n",
       "      <th>...</th>\n",
       "      <th>92</th>\n",
       "      <th>93</th>\n",
       "      <th>94</th>\n",
       "      <th>95</th>\n",
       "      <th>96</th>\n",
       "      <th>97</th>\n",
       "      <th>98</th>\n",
       "      <th>99</th>\n",
       "      <th>length_tweet</th>\n",
       "      <th>label</th>\n",
       "    </tr>\n",
       "  </thead>\n",
       "  <tbody>\n",
       "    <tr>\n",
       "      <th>0</th>\n",
       "      <td>0.131330</td>\n",
       "      <td>0.257119</td>\n",
       "      <td>0.111924</td>\n",
       "      <td>-0.166165</td>\n",
       "      <td>-0.045617</td>\n",
       "      <td>-0.649502</td>\n",
       "      <td>0.657173</td>\n",
       "      <td>0.728285</td>\n",
       "      <td>0.001075</td>\n",
       "      <td>-0.531237</td>\n",
       "      <td>...</td>\n",
       "      <td>-0.231632</td>\n",
       "      <td>0.066270</td>\n",
       "      <td>0.840207</td>\n",
       "      <td>0.186599</td>\n",
       "      <td>0.679754</td>\n",
       "      <td>-0.642582</td>\n",
       "      <td>-0.087538</td>\n",
       "      <td>0.277394</td>\n",
       "      <td>52</td>\n",
       "      <td>5</td>\n",
       "    </tr>\n",
       "    <tr>\n",
       "      <th>1</th>\n",
       "      <td>-0.771990</td>\n",
       "      <td>-0.169134</td>\n",
       "      <td>-0.063250</td>\n",
       "      <td>-0.164557</td>\n",
       "      <td>-0.111910</td>\n",
       "      <td>-0.443053</td>\n",
       "      <td>0.183623</td>\n",
       "      <td>0.399059</td>\n",
       "      <td>0.311031</td>\n",
       "      <td>-0.089999</td>\n",
       "      <td>...</td>\n",
       "      <td>0.168617</td>\n",
       "      <td>-0.361960</td>\n",
       "      <td>0.350588</td>\n",
       "      <td>0.269561</td>\n",
       "      <td>-0.105211</td>\n",
       "      <td>-0.471534</td>\n",
       "      <td>-0.134738</td>\n",
       "      <td>-0.266171</td>\n",
       "      <td>24</td>\n",
       "      <td>3</td>\n",
       "    </tr>\n",
       "    <tr>\n",
       "      <th>2</th>\n",
       "      <td>-0.302335</td>\n",
       "      <td>0.298178</td>\n",
       "      <td>-0.372556</td>\n",
       "      <td>-0.076330</td>\n",
       "      <td>-0.143047</td>\n",
       "      <td>-0.379648</td>\n",
       "      <td>0.404911</td>\n",
       "      <td>0.743833</td>\n",
       "      <td>-0.187585</td>\n",
       "      <td>-0.443843</td>\n",
       "      <td>...</td>\n",
       "      <td>-0.012485</td>\n",
       "      <td>-0.487591</td>\n",
       "      <td>0.578209</td>\n",
       "      <td>0.335669</td>\n",
       "      <td>0.163435</td>\n",
       "      <td>-0.393470</td>\n",
       "      <td>0.439488</td>\n",
       "      <td>0.460025</td>\n",
       "      <td>60</td>\n",
       "      <td>5</td>\n",
       "    </tr>\n",
       "    <tr>\n",
       "      <th>3</th>\n",
       "      <td>-0.128766</td>\n",
       "      <td>0.294861</td>\n",
       "      <td>0.016739</td>\n",
       "      <td>0.072633</td>\n",
       "      <td>-0.044221</td>\n",
       "      <td>-0.667215</td>\n",
       "      <td>-0.036742</td>\n",
       "      <td>0.127695</td>\n",
       "      <td>-0.098436</td>\n",
       "      <td>0.045361</td>\n",
       "      <td>...</td>\n",
       "      <td>0.376718</td>\n",
       "      <td>0.111914</td>\n",
       "      <td>0.591521</td>\n",
       "      <td>-0.035954</td>\n",
       "      <td>0.007995</td>\n",
       "      <td>-0.578133</td>\n",
       "      <td>0.145660</td>\n",
       "      <td>-0.388465</td>\n",
       "      <td>81</td>\n",
       "      <td>2</td>\n",
       "    </tr>\n",
       "    <tr>\n",
       "      <th>4</th>\n",
       "      <td>0.145315</td>\n",
       "      <td>0.519912</td>\n",
       "      <td>-0.102919</td>\n",
       "      <td>0.183239</td>\n",
       "      <td>-0.398386</td>\n",
       "      <td>-0.483811</td>\n",
       "      <td>-0.370828</td>\n",
       "      <td>0.725865</td>\n",
       "      <td>-0.385090</td>\n",
       "      <td>0.042847</td>\n",
       "      <td>...</td>\n",
       "      <td>0.127841</td>\n",
       "      <td>0.385141</td>\n",
       "      <td>0.826059</td>\n",
       "      <td>-0.207079</td>\n",
       "      <td>-0.143951</td>\n",
       "      <td>-0.287566</td>\n",
       "      <td>0.206724</td>\n",
       "      <td>-0.036755</td>\n",
       "      <td>59</td>\n",
       "      <td>3</td>\n",
       "    </tr>\n",
       "  </tbody>\n",
       "</table>\n",
       "<p>5 rows × 102 columns</p>\n",
       "</div>"
      ],
      "text/plain": [
       "          0         1         2         3         4         5         6  \\\n",
       "0  0.131330  0.257119  0.111924 -0.166165 -0.045617 -0.649502  0.657173   \n",
       "1 -0.771990 -0.169134 -0.063250 -0.164557 -0.111910 -0.443053  0.183623   \n",
       "2 -0.302335  0.298178 -0.372556 -0.076330 -0.143047 -0.379648  0.404911   \n",
       "3 -0.128766  0.294861  0.016739  0.072633 -0.044221 -0.667215 -0.036742   \n",
       "4  0.145315  0.519912 -0.102919  0.183239 -0.398386 -0.483811 -0.370828   \n",
       "\n",
       "          7         8         9  ...        92        93        94        95  \\\n",
       "0  0.728285  0.001075 -0.531237  ... -0.231632  0.066270  0.840207  0.186599   \n",
       "1  0.399059  0.311031 -0.089999  ...  0.168617 -0.361960  0.350588  0.269561   \n",
       "2  0.743833 -0.187585 -0.443843  ... -0.012485 -0.487591  0.578209  0.335669   \n",
       "3  0.127695 -0.098436  0.045361  ...  0.376718  0.111914  0.591521 -0.035954   \n",
       "4  0.725865 -0.385090  0.042847  ...  0.127841  0.385141  0.826059 -0.207079   \n",
       "\n",
       "         96        97        98        99  length_tweet  label  \n",
       "0  0.679754 -0.642582 -0.087538  0.277394            52      5  \n",
       "1 -0.105211 -0.471534 -0.134738 -0.266171            24      3  \n",
       "2  0.163435 -0.393470  0.439488  0.460025            60      5  \n",
       "3  0.007995 -0.578133  0.145660 -0.388465            81      2  \n",
       "4 -0.143951 -0.287566  0.206724 -0.036755            59      3  \n",
       "\n",
       "[5 rows x 102 columns]"
      ]
     },
     "execution_count": 19,
     "metadata": {},
     "output_type": "execute_result"
    }
   ],
   "source": [
    "print('number of uniqe words',len(vector[1]))\n",
    "w2v_train=pd.DataFrame(vector)\n",
    "w2v_train['length_tweet']=df['length_tweet']\n",
    "w2v_train['label']=df['label']\n",
    "w2v_train.head()"
   ]
  },
  {
   "cell_type": "markdown",
   "metadata": {},
   "source": [
    "# Resample"
   ]
  },
  {
   "cell_type": "markdown",
   "metadata": {},
   "source": [
    "## Upsampling BOW"
   ]
  },
  {
   "cell_type": "code",
   "execution_count": 20,
   "metadata": {},
   "outputs": [
    {
     "data": {
      "text/plain": [
       "0    16846\n",
       "1     7801\n",
       "2     6103\n",
       "3     4884\n",
       "4     2450\n",
       "5     2431\n",
       "6     2112\n",
       "Name: label, dtype: int64"
      ]
     },
     "execution_count": 20,
     "metadata": {},
     "output_type": "execute_result"
    }
   ],
   "source": [
    "bow_train.label.value_counts()"
   ]
  },
  {
   "cell_type": "code",
   "execution_count": 21,
   "metadata": {},
   "outputs": [
    {
     "name": "stdout",
     "output_type": "stream",
     "text": [
      "shape (117922, 1002)\n"
     ]
    },
    {
     "data": {
      "text/plain": [
       "<AxesSubplot:xlabel='label', ylabel='count'>"
      ]
     },
     "execution_count": 21,
     "metadata": {},
     "output_type": "execute_result"
    },
    {
     "data": {
      "image/png": "[encoded data removed]",
      "text/plain": [
       "<Figure size 432x288 with 1 Axes>"
      ]
     },
     "metadata": {},
     "output_type": "display_data"
    }
   ],
   "source": [
    "major_class_0,major_class_1, major_class_2, major_class_3, major_class_4, major_class_5, major_class_6 =bow_train.label.value_counts()\n",
    "df_major0=bow_train[bow_train['label']==0]\n",
    "df_major1=bow_train[bow_train['label']==1]\n",
    "df_major2=bow_train[bow_train['label']==2]\n",
    "df_major3=bow_train[bow_train['label']==3]\n",
    "df_major4=bow_train[bow_train['label']==4]\n",
    "df_major5=bow_train[bow_train['label']==5]\n",
    "df_major6=bow_train[bow_train['label']==6]\n",
    "\n",
    "df_minor1_upsampled = resample(df_major1, \n",
    "                                 replace=True,     # sample with replacement\n",
    "                                 n_samples=major_class_0)\n",
    "df_minor2_upsampled = resample(df_major2, \n",
    "                                 replace=True,     # sample with replacement\n",
    "                                 n_samples=major_class_0)\n",
    "df_minor3_upsampled = resample(df_major3, \n",
    "                                 replace=True,     # sample with replacement\n",
    "                                 n_samples=major_class_0)\n",
    "df_minor4_upsampled = resample(df_major4, \n",
    "                                 replace=True,     # sample with replacement\n",
    "                                 n_samples=major_class_0)\n",
    "df_minor5_upsampled = resample(df_major5, \n",
    "                                 replace=True,     # sample with replacement\n",
    "                                 n_samples=major_class_0)\n",
    "df_minor6_upsampled = resample(df_major6, \n",
    "                                 replace=True,     # sample with replacement\n",
    "                                 n_samples=major_class_0)\n",
    "df_bow_upsampled = pd.concat([df_major0, df_minor1_upsampled,df_minor2_upsampled, df_minor3_upsampled, df_minor4_upsampled, df_minor5_upsampled, df_minor6_upsampled])\n",
    "print('shape',df_bow_upsampled.shape)\n",
    "sns.countplot(df_bow_upsampled.label)"
   ]
  },
  {
   "cell_type": "markdown",
   "metadata": {},
   "source": [
    "## Upsampling TF-IDF"
   ]
  },
  {
   "cell_type": "code",
   "execution_count": 22,
   "metadata": {},
   "outputs": [
    {
     "name": "stdout",
     "output_type": "stream",
     "text": [
      "shape (117922, 1002)\n"
     ]
    },
    {
     "data": {
      "text/plain": [
       "<AxesSubplot:xlabel='label', ylabel='count'>"
      ]
     },
     "execution_count": 22,
     "metadata": {},
     "output_type": "execute_result"
    },
    {
     "data": {
      "image/png": "[encoded data removed]",
      "text/plain": [
       "<Figure size 432x288 with 1 Axes>"
      ]
     },
     "metadata": {},
     "output_type": "display_data"
    }
   ],
   "source": [
    "major_class_0,major_class_1, major_class_2, major_class_3, major_class_4, major_class_5, major_class_6=tfidf_train.label.value_counts()\n",
    "df_major0=tfidf_train[tfidf_train['label']==0]\n",
    "df_major1=tfidf_train[tfidf_train['label']==1]\n",
    "df_major2=tfidf_train[tfidf_train['label']==2]\n",
    "df_major3=tfidf_train[tfidf_train['label']==3]\n",
    "df_major4=tfidf_train[tfidf_train['label']==4]\n",
    "df_major5=tfidf_train[tfidf_train['label']==5]\n",
    "df_major6=tfidf_train[tfidf_train['label']==6]\n",
    "\n",
    "df_minor1_upsampled = resample(df_major1, \n",
    "                                 replace=True,     # sample with replacement\n",
    "                                 n_samples=major_class_0)\n",
    "df_minor2_upsampled = resample(df_major2, \n",
    "                                 replace=True,     # sample with replacement\n",
    "                                 n_samples=major_class_0)\n",
    "df_minor3_upsampled = resample(df_major3, \n",
    "                                 replace=True,     # sample with replacement\n",
    "                                 n_samples=major_class_0)\n",
    "df_minor4_upsampled = resample(df_major4, \n",
    "                                 replace=True,     # sample with replacement\n",
    "                                 n_samples=major_class_0)\n",
    "df_minor5_upsampled = resample(df_major5, \n",
    "                                 replace=True,     # sample with replacement\n",
    "                                 n_samples=major_class_0)\n",
    "df_minor6_upsampled = resample(df_major6, \n",
    "                                 replace=True,     # sample with replacement\n",
    "                                 n_samples=major_class_0)\n",
    "df_tfidf_upsampled  = pd.concat([df_major0, df_minor1_upsampled,df_minor2_upsampled, df_minor3_upsampled, df_minor4_upsampled, df_minor5_upsampled, df_minor6_upsampled])\n",
    "print('shape',df_tfidf_upsampled.shape)\n",
    "sns.countplot(df_tfidf_upsampled.label)"
   ]
  },
  {
   "cell_type": "markdown",
   "metadata": {},
   "source": [
    "# Split Dataset"
   ]
  },
  {
   "cell_type": "code",
   "execution_count": 23,
   "metadata": {},
   "outputs": [],
   "source": [
    "x=df_bow_upsampled.iloc[:,0:-1]\n",
    "y=df_bow_upsampled['label']\n",
    "x_train_bow,x_test_bow,y_train_bow,y_test_bow=train_test_split(x,y,test_size=0.2)"
   ]
  },
  {
   "cell_type": "code",
   "execution_count": 24,
   "metadata": {},
   "outputs": [
    {
     "data": {
      "text/plain": [
       "12884    5\n",
       "24101    4\n",
       "27226    0\n",
       "36484    3\n",
       "36483    2\n",
       "        ..\n",
       "17343    2\n",
       "42137    3\n",
       "35750    5\n",
       "36093    3\n",
       "1828     6\n",
       "Name: label, Length: 94337, dtype: int64"
      ]
     },
     "execution_count": 24,
     "metadata": {},
     "output_type": "execute_result"
    }
   ],
   "source": [
    "y_train_bow"
   ]
  },
  {
   "cell_type": "code",
   "execution_count": 25,
   "metadata": {},
   "outputs": [
    {
     "data": {
      "text/plain": [
       "pandas.core.series.Series"
      ]
     },
     "execution_count": 25,
     "metadata": {},
     "output_type": "execute_result"
    }
   ],
   "source": [
    "type(y_train_bow)"
   ]
  },
  {
   "cell_type": "code",
   "execution_count": 26,
   "metadata": {},
   "outputs": [],
   "source": [
    "x=df_tfidf_upsampled.iloc[:,0:-1]\n",
    "y=df_tfidf_upsampled['label']\n",
    "x_train_tfidf,x_test_tfidf,y_train_tfidf,y_test_tfidf=train_test_split(x,y,test_size=0.2)"
   ]
  },
  {
   "cell_type": "markdown",
   "metadata": {},
   "source": [
    "## Metrics of Performance"
   ]
  },
  {
   "cell_type": "code",
   "execution_count": 27,
   "metadata": {},
   "outputs": [],
   "source": [
    "def f1_score_(y_proba, y_pred):\n",
    "  y_true = y_proba[:,1] >= 0.2\n",
    "  y_true = y_true.astype(np.int) \n",
    "  f1 = f1_score(y_true, y_pred, average='macro') #  average setting, one of [None, 'micro', 'macro', 'weighted']\n",
    "  return f1"
   ]
  },
  {
   "cell_type": "code",
   "execution_count": 28,
   "metadata": {},
   "outputs": [],
   "source": [
    "def recall(y_true,y_pred):\n",
    "  y_true = y_true.astype(np.int) \n",
    "  recall_result = recall_score(y_true, y_pred, average='macro') #  average setting, one of [None, 'micro', 'macro', 'weighted']\n",
    "  return recall_result"
   ]
  },
  {
   "cell_type": "code",
   "execution_count": 29,
   "metadata": {},
   "outputs": [],
   "source": [
    "def precision(y_true,y_pred):\n",
    "  y_true = y_true.astype(np.int) \n",
    "  precision_result = precision_score(y_true, y_pred, average='macro') #  average setting, one of [None, 'micro', 'macro', 'weighted']\n",
    "  return precision_result"
   ]
  },
  {
   "cell_type": "code",
   "execution_count": 30,
   "metadata": {},
   "outputs": [],
   "source": [
    "def cm(y_true,y_pred):\n",
    "  y_true = y_true.astype(np.int) \n",
    "  confusion_result = confusion_matrix(y_true, y_pred) #  average setting, one of [None, 'micro', 'macro', 'weighted']\n",
    "  return confusion_result"
   ]
  },
  {
   "cell_type": "code",
   "execution_count": 31,
   "metadata": {},
   "outputs": [
    {
     "name": "stdout",
     "output_type": "stream",
     "text": [
      "<class 'pandas.core.frame.DataFrame'> (94337, 1001)\n",
      "(94337,)\n"
     ]
    }
   ],
   "source": [
    "print(type(x_train_bow), x_train_bow.shape)\n",
    "print(y_train_bow.shape)"
   ]
  },
  {
   "cell_type": "markdown",
   "metadata": {},
   "source": [
    "# Training"
   ]
  },
  {
   "cell_type": "code",
   "execution_count": 32,
   "metadata": {},
   "outputs": [],
   "source": [
    "from keras.models import Model\n",
    "from keras.layers import Input\n",
    "from keras.layers import Dense\n",
    "from keras.layers import Flatten\n",
    "from keras.layers import Dropout\n",
    "from keras.layers import Embedding\n",
    "from keras.layers.convolutional import Conv1D\n",
    "from keras.layers.convolutional import MaxPooling1D\n",
    "from keras.layers.merge import concatenate"
   ]
  },
  {
   "cell_type": "code",
   "execution_count": 33,
   "metadata": {},
   "outputs": [],
   "source": [
    "def get_model(hidden_units, input_dims, n_labels, dropout_r, model='rnn', feature='bow'):\n",
    "    if model == 'baseline':\n",
    "        model = LinearSVC(random_state=0, verbose=True, max_iter=10000)\n",
    "\n",
    "    elif model == 'knn':\n",
    "        model = KNeighborsClassifier(n_neighbors=3)\n",
    "    \n",
    "    elif model == 'rfc':\n",
    "        model = RandomForestClassifier()\n",
    "\n",
    "    elif model=='rnn' and feature=='bow':\n",
    "        model = tf.keras.Sequential()\n",
    "        model.add(tf.keras.layers.Dense(hidden_units, input_dim = input_dims[1], activation = 'relu'))\n",
    "        model.add(tf.keras.layers.Dropout(dropout_r)) # dropout is important to prevent model from overfitting\n",
    "        model.add(tf.keras.layers.Dense(n_labels, activation = 'softmax'))\n",
    "        adam = tf.keras.optimizers.Adam(learning_rate=0.001, beta_1 = 0.9, beta_2=0.999, epsilon=1e-08, amsgrad=False)\n",
    "        model.compile(loss = 'categorical_crossentropy', optimizer=adam, metrics = ['accuracy'])\n",
    "        #model.compile(loss='mean_squared_error', optimizer=adam, metrics = ['accuracy'])\n",
    "\n",
    "    elif model=='rnn' and feature=='tfidf':\n",
    "        model = tf.keras.Sequential()\n",
    "        model.add(tf.keras.layers.Dense(hidden_units, input_dim = input_dims[1], activation = 'relu'))\n",
    "        model.add(tf.keras.layers.Dropout(dropout_r)) # dropout is important to prevent model from overfitting\n",
    "        model.add(tf.keras.layers.Dense(n_labels, activation = 'softmax'))\n",
    "        adam = tf.keras.optimizers.Adam(learning_rate=0.001, beta_1 = 0.9, beta_2=0.999, epsilon=1e-08, amsgrad=False)\n",
    "        model.compile(loss = 'categorical_crossentropy', optimizer=adam, metrics = ['accuracy'])\n",
    "        \n",
    "    elif model=='lstm' and feature=='bow':\n",
    "        # A simple LSTM network\n",
    "        model = tf.keras.Sequential()\n",
    "        model.add(LSTM(32))\n",
    "        model.add(Dense(1))\n",
    "        model.compile(loss = 'categorical_crossentropy', optimizer='adam', metrics = ['accuracy'])\n",
    "        #model.add(tf.keras.layers.Dense(hidden_units, input_dim = input_dims[1], activation = 'relu'))\n",
    "        #tf.keras.layers.LSTM(4, return_sequences=True, return_state=True)\n",
    "        # model.add(tf.keras.layers.LSTM(128, input_shape=(23585), return_sequences=True))\n",
    "        # #model.add(tf.keras.layers.LSTM(4, return_sequences=True, return_state=True))\n",
    "        # model.add(tf.keras.layers.Dropout(dropout_r))\n",
    "        # #model.add(tf.keras.layers.LSTM(128, return_sequences=False))\n",
    "        # #model.add(tf.keras.layers.Dropout(dropout_r))\n",
    "        # model.add(tf.keras.layers.Dense(n_labels))\n",
    "        # model.add(tf.keras.layers.Activation('softmax'))\n",
    "        # #adam = tf.keras.optimizers.Adam(learning_rate=0.001, beta_1 = 0.9, beta_2=0.999, epsilon=1e-08, amsgrad=False)\n",
    "        # model.compile(loss = 'categorical_crossentropy', optimizer='adam', metrics = ['accuracy'])\n",
    "\n",
    "\n",
    "        # model.add(Embedding(num_words, embed_dim, input_length = X.shape[1]))\n",
    "        # model.add(LSTM(lstm_out, recurrent_dropout=0.2, dropout=0.2))\n",
    "        # model.add(Dense(9,activation='softmax'))\n",
    "        # model.compile(loss = 'categorical_crossentropy', optimizer='adam', metrics = ['categorical_crossentropy'])\n",
    "\n",
    "    # elif model=='cnn' and feature=='bow':\n",
    "    #     model = tf.keras.Sequential()\n",
    "    #     inputs1 = Input(shape=(length,))\n",
    "    #     embedding1 = Embedding(vocab_size, 100)(inputs1)\n",
    "    #     conv1 = Conv1D(filters=32, kernel_size=4, activation='relu')(embedding1)\n",
    "    #     drop1 = Dropout(0.5)(conv1)\n",
    "    #     pool1 = MaxPooling1D(pool_size=2)(drop1)\n",
    "    #     flat1 = Flatten()(pool1)\n",
    "\n",
    "\n",
    "        \n",
    "\n",
    "    elif model=='rnn' and feature=='glove':\n",
    "        # A simple RNN network to classify the emoji class from an input Sentence\n",
    "        model = tf.keras.Sequential()\n",
    "        model.add(tf.keras.layers.SimpleRNN(64, input_shape=(30, 200), return_sequences=True))\n",
    "        model.add(tf.keras.layers.Dropout(dropout_r))\n",
    "        model.add(tf.keras.layers.SimpleRNN(64, return_sequences=False))\n",
    "        model.add(tf.keras.layers.Dropout(dropout_r))\n",
    "        model.add(tf.keras.layers.Dense(n_labels))\n",
    "        model.add(tf.keras.layers.Activation('softmax'))\n",
    "        model.compile(loss = 'categorical_crossentropy', optimizer='adam', metrics = ['accuracy'])\n",
    "    elif model=='lstm' and feature=='glove':\n",
    "        # A simple LSTM network\n",
    "        model = tf.keras.Sequential()\n",
    "        model.add(tf.keras.layers.LSTM(128, input_shape=(30, 200), return_sequences=True))\n",
    "        model.add(tf.keras.layers.Dropout(dropout_r))\n",
    "        model.add(tf.keras.layers.LSTM(128, return_sequences=False))\n",
    "        model.add(tf.keras.layers.Dropout(dropout_r))\n",
    "        model.add(tf.keras.layers.Dense(n_labels))\n",
    "        model.add(tf.keras.layers.Activation('softmax'))\n",
    "        #adam = tf.keras.optimizers.Adam(learning_rate=0.001, beta_1 = 0.9, beta_2=0.999, epsilon=1e-08, amsgrad=False)\n",
    "        model.compile(loss = 'categorical_crossentropy', optimizer='adam', metrics = ['accuracy'])\n",
    "\n",
    "    else:\n",
    "        assert False\n",
    "    return model"
   ]
  },
  {
   "cell_type": "code",
   "execution_count": 34,
   "metadata": {},
   "outputs": [],
   "source": [
    "def probs_to_labels(y_probs):\n",
    "    num_labels = [np.argmax(pred) for pred in y_probs]\n",
    "    return num_labels"
   ]
  },
  {
   "cell_type": "code",
   "execution_count": 35,
   "metadata": {},
   "outputs": [],
   "source": [
    "def NNclassification(X_train, X_test, y_train, y_test, n_units, dropout, n_epochs, model='rnn', feature='bow'):\n",
    "    n_batches=32\n",
    "\n",
    "    y_train_vals = y_train\n",
    "    #X_train_vals = X_train\n",
    "\n",
    "    # get indicator matrix with one-hot-encoded vectors per label (of all labels)\n",
    "    y_train = to_cat_matrix(y_train)\n",
    "    #y_test_val = to_cat_matrix(y_test)\n",
    "\n",
    "    MLP = get_model(n_units, X_train.shape, y_train.shape[1], dropout, model, feature)\n",
    "    print('Neural Net model constructed')\n",
    " \n",
    "    #X_train, y_train = shuffle(X_train, y_train)\n",
    "    if model == 'baseline':# or 'rfc' or 'knn':\n",
    "        history = MLP.fit(X_train, y_train_vals)\n",
    "    else:\n",
    "        history = MLP.fit(X_train, y_train, epochs = n_epochs, batch_size = n_batches, validation_data=(X_test, to_cat_matrix(y_test)), verbose=False)\n",
    "        #history = MLP.fit(X_train, y_train, epochs=n_epochs, batch_size=n_batches, verbose=False)\n",
    "    \n",
    "    #===================================================================\n",
    "    #evaluate as described by tensorflow\n",
    "    if model != 'baseline':  #or model != 'rfc':\n",
    "        # evaluate on training data\n",
    "        loss_train, acc_train = MLP.evaluate(X_train, y_train, verbose=True)     \n",
    "    else:\n",
    "        acc_train = MLP.score(X_train, y_train_vals)\n",
    "   \n",
    "\n",
    "    if model != 'baseline':\n",
    "        # evaluate on training data\n",
    "        loss_train, acc_train = MLP.evaluate(X_train, y_train, verbose=True)\n",
    "    else:\n",
    "        acc_train = MLP.score(X_train, y_train_vals)\n",
    "    \n",
    "    if model != 'baseline':\n",
    "        # evaluate on training data\n",
    "        loss_train, acc_train = MLP.evaluate(X_train, y_train, verbose=True)\n",
    "    else:\n",
    "        acc_train = MLP.score(X_train, y_train_vals)\n",
    "\n",
    "    if model != 'baseline':\n",
    "        # evaluate on test data\n",
    "        loss_test, acc_test = MLP.evaluate(X_test, to_cat_matrix(y_test), verbose=True)\n",
    "    else:\n",
    "        acc_test = MLP.score(X_test, y_test)\n",
    "\n",
    "    #evaluation done\n",
    "    #===================================================================\n",
    "\n",
    "    if model != 'baseline':\n",
    "        print(history.history.keys())\n",
    "        print(history.history['accuracy'])\n",
    "        print(history.history['val_accuracy'])\n",
    "        print(history.history['loss'])\n",
    "        print(history.history['val_loss'])\n",
    "\n",
    "        plot_history(history)\n",
    "        # plt.plot(history.history['accuracy'])\n",
    "        # plt.plot(history.history['val_accuracy'])\n",
    "        # plt.plot(history.history['loss'])\n",
    "        # plt.plot(history.history['val_loss'])\n",
    "\n",
    "        #print(history.params)\n",
    "\n",
    "    # classification report\n",
    "    y_pred = MLP.predict(X_test)\n",
    "    y_pred = probs_to_labels(y_pred)\n",
    "    #y_test = y_test.tolist()\n",
    "    results = classification_report(y_test, y_pred, labels = [0,1,2,3,4,5,6])\n",
    "\n",
    "    # calc preicision scores\n",
    "    precisionScore_sklearn_microavg = precision_score(y_test, y_pred, average='micro')\n",
    "    precisionScore_sklearn_macroavg = precision_score(y_test, y_pred, average='macro')\n",
    "\n",
    "    # calc recall scores \n",
    "    recallScore_sklearn_microavg = recall_score(y_test, y_pred, average='micro')\n",
    "    recallScore_sklearn_macroavg = recall_score(y_test, y_pred, average='macro')\n",
    "\n",
    "    # print stuff\n",
    "    print(\"Classification Report: \")\n",
    "    print(results)\n",
    "    print(\"Precision_micro: {}\".format(precisionScore_sklearn_microavg))\n",
    "    print(\"Precision_macro: {}\".format(precisionScore_sklearn_macroavg))\n",
    "    print(\"Recall_micro: {}\".format(recallScore_sklearn_microavg))\n",
    "    print(\"Recall_macro: {}\".format(recallScore_sklearn_macroavg))\n",
    "    print(\"Training Accuracy: {:.4f}\".format(acc_train))\n",
    "    print(\"Testing Accuracy: {:.4f}\".format(acc_test))\n",
    "    \n",
    "    if model != 'baseline':\n",
    "        print(\"Training Loss: {:.4f}\".format(loss_train))\n",
    "        print(\"Testing Loss: {:.4f}\".format(loss_test))\n",
    "\n",
    "    return\n"
   ]
  },
  {
   "cell_type": "code",
   "execution_count": 36,
   "metadata": {},
   "outputs": [],
   "source": [
    "def to_cat_matrix(y):\n",
    "    \"\"\" \n",
    "    Binary one-hot encoding using an indicator matrix.\n",
    "    This function converts labels to a categorical matrix which is of size N x K.\n",
    "    Each row is a row vector with k-1 zeros and a single 1.\n",
    "    \"\"\"\n",
    "    N = len(y)\n",
    "    K = len(set(y))\n",
    "    ind_matrix = np.zeros((N,K), dtype = int)\n",
    "    for i, cat in enumerate(y):\n",
    "        ind_matrix[i, int(cat)] = 1\n",
    "    return ind_matrix"
   ]
  },
  {
   "cell_type": "code",
   "execution_count": 37,
   "metadata": {},
   "outputs": [],
   "source": [
    "def plot_history(history):\n",
    "    acc = history.history['accuracy']\n",
    "    val_acc = history.history['val_accuracy']\n",
    "    loss = history.history['loss']\n",
    "    val_loss = history.history['val_loss']\n",
    "    x = range(1, len(acc) + 1)\n",
    "\n",
    "    plt.figure(figsize=(12, 5))\n",
    "    plt.subplot(1, 2, 1)\n",
    "    plt.plot(x, acc, 'b', label='Training acc')\n",
    "    plt.plot(x, val_acc, 'r', label='Validation acc')\n",
    "    plt.title('Training and validation accuracy')\n",
    "    plt.legend()\n",
    "    plt.subplot(1, 2, 2)\n",
    "    plt.plot(x, loss, 'b', label='Training loss')\n",
    "    plt.plot(x, val_loss, 'r', label='Validation loss')\n",
    "    plt.title('Training and validation loss')\n",
    "    plt.legend()"
   ]
  },
  {
   "cell_type": "code",
   "execution_count": 38,
   "metadata": {},
   "outputs": [],
   "source": [
    "list_acc = []\n",
    "list_loss = []\n",
    "\n",
    "n_epoch = 10\n",
    "N_NGRAMS = range(3, 5)"
   ]
  },
  {
   "cell_type": "code",
   "execution_count": 39,
   "metadata": {},
   "outputs": [
    {
     "name": "stdout",
     "output_type": "stream",
     "text": [
      "(94337, 1001) (23585,)\n"
     ]
    }
   ],
   "source": [
    "print(x_train_bow.shape, y_test_bow.shape)"
   ]
  },
  {
   "cell_type": "code",
   "execution_count": 40,
   "metadata": {},
   "outputs": [
    {
     "name": "stdout",
     "output_type": "stream",
     "text": [
      "================================\n",
      "Neural Net model constructed\n",
      "2949/2949 [==============================] - 2s 651us/step - loss: 0.6589 - accuracy: 0.7714\n",
      "2949/2949 [==============================] - 2s 629us/step - loss: 0.6589 - accuracy: 0.7714\n",
      "2949/2949 [==============================] - 2s 649us/step - loss: 0.6589 - accuracy: 0.7714\n",
      "738/738 [==============================] - 1s 665us/step - loss: 0.7757 - accuracy: 0.7316\n",
      "dict_keys(['loss', 'accuracy', 'val_loss', 'val_accuracy'])\n",
      "[0.5100225806236267, 0.5799209475517273, 0.6005914807319641, 0.6237743496894836, 0.646490752696991, 0.6668539643287659, 0.6870368719100952, 0.6995558738708496, 0.714131236076355, 0.7237881422042847]\n",
      "[0.5810896754264832, 0.5910112261772156, 0.6054272055625916, 0.6293407082557678, 0.6428238153457642, 0.666101336479187, 0.6832732558250427, 0.7077803611755371, 0.7164299488067627, 0.731609046459198]\n",
      "[1.3717334270477295, 1.1621801853179932, 1.095395803451538, 1.0348368883132935, 0.9741426706314087, 0.9226119518280029, 0.8730759620666504, 0.8324480056762695, 0.7973388433456421, 0.7664461135864258]\n",
      "[1.1677206754684448, 1.1174957752227783, 1.0854930877685547, 1.0174275636672974, 0.9730254411697388, 0.933214545249939, 0.891826331615448, 0.8390730023384094, 0.8064477443695068, 0.7757281064987183]\n",
      "Classification Report: \n",
      "              precision    recall  f1-score   support\n",
      "\n",
      "           0       0.62      0.47      0.53      3300\n",
      "           1       0.69      0.59      0.64      3342\n",
      "           2       0.57      0.62      0.59      3340\n",
      "           3       0.68      0.71      0.70      3380\n",
      "           4       0.93      0.91      0.92      3384\n",
      "           5       0.78      0.89      0.83      3455\n",
      "           6       0.82      0.92      0.87      3384\n",
      "\n",
      "    accuracy                           0.73     23585\n",
      "   macro avg       0.73      0.73      0.72     23585\n",
      "weighted avg       0.73      0.73      0.73     23585\n",
      "\n",
      "Precision_micro: 0.7316090735637057\n",
      "Precision_macro: 0.7262932221973741\n",
      "Recall_micro: 0.7316090735637057\n",
      "Recall_macro: 0.7297448442481498\n",
      "Training Accuracy: 0.7714\n",
      "Testing Accuracy: 0.7316\n",
      "Training Loss: 0.6589\n",
      "Testing Loss: 0.7757\n"
     ]
    },
    {
     "data": {
      "image/png": "[encoded data removed]",
      "text/plain": [
       "<Figure size 864x360 with 2 Axes>"
      ]
     },
     "metadata": {},
     "output_type": "display_data"
    }
   ],
   "source": [
    "print(\"================================\")\n",
    "#NNclassification(x_train_bow, x_test_bow, y_train_bow, y_test_bow, n_units=100, dropout=0.2, n_epochs=n_epoch, model='lstm', feature='bow')\n",
    "#NNclassification(x_train_bow, x_test_bow, y_train_bow, y_test_bow, n_units=100, dropout=0.2, n_epochs=n_epoch, model='baseline', feature='bow')\n",
    "NNclassification(x_train_bow, x_test_bow, y_train_bow, y_test_bow, n_units=100, dropout=0.2, n_epochs=n_epoch, model='rnn', feature='bow')\n",
    "#NNclassification(x_train_tfidf, x_test_tfidf, y_train_tfidf, y_test_tfidf, n_units=100, dropout=0.2, n_epochs=n_epoch, model='rnn', feature='tfidf')\n",
    "#NNclassification(x_train_bow, x_test_bow, y_train_bow, y_test_bow, n_units=100, dropout=0.2, n_epochs=n_epoch, model='knn', feature='bow')\n",
    "#NNclassification(x_train_bow, x_test_bow, y_train_bow, y_test_bow, n_units=100, dropout=0.2, n_epochs=n_epoch, model='rfc', feature='bow')"
   ]
  },
  {
   "cell_type": "code",
   "execution_count": null,
   "metadata": {},
   "outputs": [],
   "source": []
  },
  {
   "cell_type": "code",
   "execution_count": null,
   "metadata": {},
   "outputs": [],
   "source": []
  }
 ],
 "metadata": {
  "interpreter": {
   "hash": "0eb5d0a65b500759bcde1c4c1ad0551eaece71d5bef76353acf57400c52edb49"
  },
  "kernelspec": {
   "display_name": "Python 3.9.7 ('base')",
   "language": "python",
   "name": "python3"
  },
  "language_info": {
   "codemirror_mode": {
    "name": "ipython",
    "version": 3
   },
   "file_extension": ".py",
   "mimetype": "text/x-python",
   "name": "python",
   "nbconvert_exporter": "python",
   "pygments_lexer": "ipython3",
   "version": "3.9.7"
  }
 },
 "nbformat": 4,
 "nbformat_minor": 2
}
